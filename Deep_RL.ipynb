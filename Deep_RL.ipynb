{
 "cells": [
  {
   "cell_type": "markdown",
   "id": "e081086a",
   "metadata": {},
   "source": [
    "## Solving the multi-arm bandit\n",
    "\n",
    "Let’s say you’re at a casino, and in front of you are 10 slot machines with a flashy\n",
    "sign that says “Play for free! Max payout is $10!” Wow, not bad! Intrigued, you ask one\n",
    "of the employees what’s going on, because it seems too good to be true, and she says,\n",
    "“It’s really true, play as much as you want, it’s free. Each slot machine is guaranteed to\n",
    "give you a reward between $0 and $10. Oh, by the way, keep this to yourself, but those\n",
    "10 slot machines each have a different average payout, so try to figure out which one\n",
    "gives the most rewards on average, and you’ll be making tons of cash!”"
   ]
  },
  {
   "cell_type": "markdown",
   "id": "8b19c510",
   "metadata": {},
   "source": [
    "### Greedy epsilon Strategy\n",
    "\n",
    "- We do a exploitation (choose best machine) and exploration (choose random machine) of slot machines\n",
    "- choose a parameter (epsilon) that can control between the two approaches.\n",
    "- Get average of each slot machine output. We take a fixed random number (probability) for each machine and add one dollar each time a random number comes greater than the probability. \n",
    "- For each arm (action): set up a for loop going to 10 (max reward), and at each step it will add 1 to the reward if a\n",
    "random float is less than the arm’s probability. RUnning this for many iterations will give the value (prob*max_reward)."
   ]
  },
  {
   "cell_type": "code",
   "execution_count": 3,
   "id": "90139d6e",
   "metadata": {},
   "outputs": [],
   "source": [
    "import numpy as np\n",
    "\n",
    "# Number of slot machines/arms\n",
    "N = 10\n",
    "\n",
    "# probability for each arm \n",
    "prob_a = np.random.rand(N)\n",
    "\n",
    "\n",
    "# get reward for an arm with given probability\n",
    "def get_reward(prob, max_reward=10):\n",
    "    reward = 0\n",
    "    for _ in range(max_reward):\n",
    "        if np.random.random() < prob:\n",
    "            reward += 1\n",
    "    return reward\n",
    "\n",
    "\n",
    "\n",
    "# function to update the reward for an action (a) of chosing an arm at each iteration\n",
    "def update_reward(record,a,reward):\n",
    "    \n",
    "    # update the mean and count of the arm a\n",
    "    new_mean = (record[a][1]*record[a][0]+reward)/(record[a][0]+1)\n",
    "    record[a][0] += 1\n",
    "    record[a][1] = new_mean\n",
    "    \n",
    "    return record\n",
    "\n",
    "\n",
    "# function to choose an arm to pull at each iteration\n",
    "def choose_arm(record,epsilon):\n",
    "    # choose a random number between 0 and 1\n",
    "    rand = np.random.rand()\n",
    "    \n",
    "    # if the random number is less than epsilon, choose a random arm\n",
    "    if rand < epsilon:\n",
    "        return np.random.randint(N)\n",
    "    \n",
    "    # else, choose the arm with the highest mean reward\n",
    "    else:\n",
    "        return np.argmax(record[:,1],axis=0)\n",
    "    "
   ]
  },
  {
   "cell_type": "code",
   "execution_count": 4,
   "id": "3bdfaf8e",
   "metadata": {},
   "outputs": [
    {
     "data": {
      "text/plain": [
       "(0.0, 10.0)"
      ]
     },
     "execution_count": 4,
     "metadata": {},
     "output_type": "execute_result"
    },
    {
     "data": {
      "image/png": "[encoded data removed]",
      "text/plain": [
       "<Figure size 640x480 with 1 Axes>"
      ]
     },
     "metadata": {},
     "output_type": "display_data"
    }
   ],
   "source": [
    "import matplotlib.pyplot as plt\n",
    "\n",
    "# number of iterations\n",
    "iterations = 500\n",
    "\n",
    "# epsilon for exploration\n",
    "epsilon = 0.2\n",
    "\n",
    "# record array with shape (N,2) \n",
    "# col1: the number of times each arm has been pulled \n",
    "# col2: the total reward for each arm\n",
    "record = np.zeros((N,2))\n",
    "\n",
    "\n",
    "fig,ax = plt.subplots(1,1)\n",
    "ax.set_xlabel(r'Trials')\n",
    "ax.set_ylabel(r'Rewards')\n",
    "\n",
    "rewards=[0]\n",
    "# loop over iterations\n",
    "for i in range(iterations):\n",
    "    # choose an arm to pull\n",
    "    a = choose_arm(record,epsilon)\n",
    "    # get the reward for the chosen arm\n",
    "    reward_i = get_reward(prob_a[a])\n",
    "    # update the reward for the chosen arm\n",
    "    record = update_reward(record,a,reward_i)\n",
    "    mean_reward = ((i+1) * rewards[-1] + reward_i)/(i+2)\n",
    "    rewards.append(mean_reward)\n",
    "\n",
    "ax.scatter(np.arange(len(rewards)),rewards)\n",
    "ax.set_ylim(0,10)"
   ]
  },
  {
   "cell_type": "markdown",
   "id": "360fa13c",
   "metadata": {},
   "source": [
    "### Softmax selection"
   ]
  },
  {
   "cell_type": "markdown",
   "id": "98d7273d",
   "metadata": {},
   "source": [
    "A newly minted doctor specializes in treating\n",
    "patients with heart attacks. She has 10 treatment options, of which she can choose\n",
    "only 1 to treat each patient she sees. For some reason, all she knows is that these 10\n",
    "treatments have different efficacies and risk profiles for treating heart attacks—she\n",
    "doesn’t know which one is the best yet. We could use the n-armed bandit algorithm\n",
    "from the previous solution, but we might want to reconsider our ε-greedy policy of\n",
    "randomly choosing a treatment once in a while. In this new problem, randomly choosing\n",
    "a treatment could result in patient death, not just losing some money. We really\n",
    "want to make sure we don’t choose the worst treatment, but we still want some ability\n",
    "to explore our options to find the best one."
   ]
  },
  {
   "cell_type": "code",
   "execution_count": 6,
   "id": "e090c3e2",
   "metadata": {},
   "outputs": [],
   "source": [
    "def softmax(av, tau=1.12):\n",
    "    \"\"\"\n",
    "    Function for softmax\n",
    "    Input:\n",
    "        av: action value vector\n",
    "        tau: temperature\n",
    "    Output:\n",
    "        softm: Probability vector for each action\n",
    "    \"\"\"\n",
    "    softm = np.exp(av / tau) / np.sum( np.exp(av / tau) )\n",
    "    return softm\n"
   ]
  },
  {
   "cell_type": "markdown",
   "id": "1ee3d4e8",
   "metadata": {},
   "source": [
    "The np.random.choice function in NumPy is used to generate a random sample from a given 1-D array. It allows you to randomly select elements, either with or without replacement, from the specified array or sequence"
   ]
  },
  {
   "cell_type": "code",
   "execution_count": 8,
   "id": "a25a1995",
   "metadata": {},
   "outputs": [
    {
     "data": {
      "text/plain": [
       "(0.0, 10.0)"
      ]
     },
     "execution_count": 8,
     "metadata": {},
     "output_type": "execute_result"
    },
    {
     "data": {
      "image/png": "[encoded data removed]",
      "text/plain": [
       "<Figure size 640x480 with 1 Axes>"
      ]
     },
     "metadata": {},
     "output_type": "display_data"
    }
   ],
   "source": [
    "import matplotlib.pyplot as plt\n",
    "import numpy as np\n",
    "\n",
    "# number of iterations\n",
    "iterations = 500\n",
    "\n",
    "# temperature for softmax\n",
    "tau = 0.2\n",
    "\n",
    "# record array with shape (N,2) \n",
    "# col1: the number of times each arm has been pulled \n",
    "# col2: the total reward for each arm\n",
    "record = np.random.rand(N,2)\n",
    "\n",
    "\n",
    "fig,ax = plt.subplots(1,1)\n",
    "ax.set_xlabel(r'Trials')\n",
    "ax.set_ylabel(r'Rewards')\n",
    "\n",
    "rewards=[0]\n",
    "# loop over iterations\n",
    "for i in range(iterations):\n",
    "    # choose an arm to pull\n",
    "    a = np.random.choice(np.arange(N),p=softmax(record[:,1],tau))\n",
    "    # get the reward for the chosen arm\n",
    "    reward_i = get_reward(prob_a[a])\n",
    "    # update the reward for the chosen arm\n",
    "    record = update_reward(record,a,reward_i)\n",
    "    mean_reward = ((i+1) * rewards[-1] + reward_i)/(i+2)\n",
    "    rewards.append(mean_reward)\n",
    "\n",
    "ax.scatter(np.arange(len(rewards)),rewards)\n",
    "ax.set_ylim(0,10)"
   ]
  },
  {
   "cell_type": "markdown",
   "id": "b110b968",
   "metadata": {},
   "source": [
    "for softmax the rewards converge faster"
   ]
  },
  {
   "cell_type": "markdown",
   "id": "48da7fc1",
   "metadata": {},
   "source": [
    "## Contextual bandit"
   ]
  },
  {
   "cell_type": "markdown",
   "id": "56cc521e",
   "metadata": {},
   "source": [
    "Let’s say we manage 10 e-commerce websites, each focusing on selling a different\n",
    "broad category of retail items such as computers, shoes, jewelry, etc. We want to\n",
    "increase sales by referring customers who shop on one of our sites to another site\n",
    "that they might be interested in. When a customer checks out on a particular site in\n",
    "our network, we will display an advertisement to one of our other sites in hopes\n",
    "they’ll go there and buy something else. Alternatively, we could place an ad for\n",
    "another product on the same site. Our problem is that we don’t know which sites we\n",
    "should refer users to. We could try placing random ads, but we suspect a more targeted\n",
    "approach is possible.\n",
    "\n",
    "\n",
    "At each play of the game\n",
    "(each time a customer checks out on a particular website) we have n = 10 possible\n",
    "actions we can take, corresponding to the 10 different types of advertisements we\n",
    "could place. The twist is that the best ad to place may depend on which site in the network\n",
    "the current customer is on. For example, a customer checking out on our jewelry\n",
    "site may be more in the mood to buy a new pair of shoes to go with their new\n",
    "diamond necklace than they would be to buy a new laptop. Thus our problem is to figure\n",
    "out how a particular site relates to a particular advertisement."
   ]
  },
  {
   "cell_type": "code",
   "execution_count": 7,
   "id": "86bed335",
   "metadata": {},
   "outputs": [],
   "source": [
    "class ContextBandit:\n",
    "    def __init__(self, arms=10):\n",
    "        self.arms = arms\n",
    "        self.init_distribution(arms)\n",
    "        self.update_state()\n",
    "    \n",
    "    # initial distribution of states space probabilities\n",
    "    def init_distribution(self, arms):\n",
    "        # assuming states are equal to arms so matrix is armsxarms\n",
    "        self.bandit_matrix = np.random.rand(arms, arms)\n",
    "\n",
    "    # setting rewards for a particlar state\n",
    "    def reward(self, prob):\n",
    "        reward = 0\n",
    "        for _ in range(self.arms):\n",
    "            if np.random.random() < prob:\n",
    "                reward += 1\n",
    "        return reward\n",
    "    \n",
    "    # getting the current state\n",
    "    def get_state(self):\n",
    "        return self.state\n",
    "    \n",
    "    # updating the state\n",
    "    def update_state(self):\n",
    "        self.state = np.random.randint(0,self.arms)\n",
    "    \n",
    "    # get reward for a particular arm\n",
    "    def get_reward(self,arm):\n",
    "        return self.reward(self.bandit_matrix[self.get_state()][arm])\n",
    "    \n",
    "    # choose an arm which means putting ads on site\n",
    "    def choose_arm(self, arm):\n",
    "        reward = self.get_reward(arm)\n",
    "        self.update_state()\n",
    "        return reward\n",
    "    "
   ]
  },
  {
   "cell_type": "code",
   "execution_count": 8,
   "id": "157750da",
   "metadata": {},
   "outputs": [],
   "source": [
    "import numpy as np\n",
    "import torch\n",
    "\n",
    "# number of arms\n",
    "arms = 10\n",
    "# batch size\n",
    "N= 1\n",
    "# input dimension\n",
    "D_in= arms\n",
    "# hidden dimension\n",
    "H= 200\n",
    "# output dimension\n",
    "D_out=arms\n",
    "\n",
    "# model with two layers\n",
    "model = torch.nn.Sequential(\n",
    "    torch.nn.Linear(D_in, H),\n",
    "    torch.nn.ReLU(),\n",
    "    torch.nn.Linear(H, D_out),\n",
    "    torch.nn.ReLU(),\n",
    ")\n",
    "\n",
    "# loss function\n",
    "loss_fn = torch.nn.MSELoss()\n",
    "\n",
    "# get environment instance\n",
    "env = ContextBandit(arms)\n",
    "\n",
    "# one hot encoding\n",
    "def one_hot(N, pos, val=1):\n",
    "    one_hot_vec = np.zeros(N)\n",
    "    one_hot_vec[pos] = val\n",
    "    return one_hot_vec\n"
   ]
  },
  {
   "cell_type": "code",
   "execution_count": null,
   "id": "7cbaca84",
   "metadata": {},
   "outputs": [],
   "source": [
    "# training function\n",
    "def train(env, epochs=5000, learning_rate=1e-2):\n",
    "    # initial state will be a random integer denoting a state but \n",
    "    cur_state = torch.Tensor(one_hot(arms,env.get_state()))\n",
    "\n",
    "    # optimizer function\n",
    "    optimizer = torch.optim.Adam(model.parameters(), lr=learning_rate)\n",
    "\n",
    "    # reward array\n",
    "    rewards = []\n",
    "\n",
    "\n",
    "    # main loop of training\n",
    "    for i in range(epochs):\n",
    "        # get prediction for current state\n",
    "        y_pred = model(cur_state)\n",
    "        # pass through softmax function to get probabilities\n",
    "        av_softmax = softmax(y_pred.data.numpy(), tau=2.0)\n",
    "        # normalize\n",
    "        av_softmax /= av_softmax.sum()\n",
    "        # choose an arm\n",
    "        choice = np.random.choice(arms, p=av_softmax)\n",
    "        # get reward for choosing an arm\n",
    "        cur_reward = env.choose_arm(choice)\n",
    "        # one hot encoding for reward for setting reward only for that arm\n",
    "        one_hot_reward = y_pred.data.numpy().copy()\n",
    "        one_hot_reward[choice] = cur_reward\n",
    "        reward = torch.Tensor(one_hot_reward)\n",
    "\n",
    "        # append reward\n",
    "        rewards.append(cur_reward)\n",
    "        # get loss\n",
    "        loss = loss_fn(y_pred, reward)\n",
    "        # update weights\n",
    "        optimizer.zero_grad()\n",
    "        loss.backward()\n",
    "        optimizer.step()\n",
    "        # set current state to new state\n",
    "        cur_state = torch.Tensor(one_hot(arms,env.get_state()))\n",
    "\n",
    "    # at the end return rewards    \n",
    "    return np.array(rewards)\n",
    "\n"
   ]
  },
  {
   "cell_type": "code",
   "execution_count": 10,
   "id": "e86c0bf4",
   "metadata": {},
   "outputs": [
    {
     "name": "stdout",
     "output_type": "stream",
     "text": [
      "(5000,)\n"
     ]
    },
    {
     "data": {
      "text/plain": [
       "[<matplotlib.lines.Line2D at 0x7f68100a33a0>]"
      ]
     },
     "execution_count": 10,
     "metadata": {},
     "output_type": "execute_result"
    },
    {
     "data": {
      "image/png": "[encoded data removed]",
      "text/plain": [
       "<Figure size 640x480 with 1 Axes>"
      ]
     },
     "metadata": {},
     "output_type": "display_data"
    }
   ],
   "source": [
    "import numpy as np\n",
    "import matplotlib.pyplot as plt\n",
    "\n",
    "def running_mean(x,N=50):\n",
    "    c = x.shape[0] - N\n",
    "    y = np.zeros(c)\n",
    "    conv = np.ones(N)\n",
    "    for i in range(c):\n",
    "        y[i] = (x[i:i+N] @ conv)/N\n",
    "    return y\n",
    "\n",
    "\n",
    "rewards2 = train(env)\n",
    "print(rewards2.shape)\n",
    "plt.plot(running_mean(rewards2,N=500))"
   ]
  },
  {
   "cell_type": "markdown",
   "id": "add1fc31",
   "metadata": {},
   "source": [
    "Even with this simple two layer agent, rewards increase consistently."
   ]
  },
  {
   "cell_type": "markdown",
   "id": "e4e8de70",
   "metadata": {},
   "source": [
    "## Q-Learning"
   ]
  },
  {
   "cell_type": "markdown",
   "id": "6f40d722",
   "metadata": {},
   "source": [
    "In reinforcement learning, a **value function** tells you **how good a particular state (or state-action pair) is**, in terms of expected future rewards.\n",
    "\n",
    "---\n",
    "\n",
    "### 🔹 1. **State Value Function** — $V(s)$\n",
    "\n",
    "This gives the **expected return** (total future reward) when starting from state $s$ and following a policy $\\pi$.\n",
    "\n",
    "$$\n",
    "V^{\\pi}(s) = \\mathbb{E}_\\pi \\left[ \\sum_{t=0}^{\\infty} \\gamma^t R_{t+1} \\mid S_0 = s \\right]\n",
    "$$\n",
    "\n",
    "* $\\gamma$: discount factor (0 ≤ $\\gamma$ < 1)\n",
    "* $R_{t+1}$: reward at time $t+1$\n",
    "* $\\pi$: policy (mapping from state to action)\n",
    "\n",
    "🧠 **Think of $V(s)$** as: *\"How good is it to be in this state, assuming I act wisely from now on?\"*\n",
    "\n",
    "---\n",
    "\n",
    "### 🔹 2. **Action-Value Function (Q-function)** — $Q(s, a)$\n",
    "\n",
    "This gives the **expected return** from state $s$, taking action $a$, and then following policy $\\pi$.\n",
    "\n",
    "$$\n",
    "Q^{\\pi}(s, a) = \\mathbb{E}_\\pi \\left[ \\sum_{t=0}^{\\infty} \\gamma^t R_{t+1} \\mid S_0 = s, A_0 = a \\right]\n",
    "$$\n",
    "\n",
    "🧠 **Think of $Q(s, a)$** as: *\"How good is it to take this action in this state, assuming I behave well afterwards?\"*\n",
    "\n",
    "---\n",
    "\n",
    "### 🔄 Relationship:\n",
    "\n",
    "$$\n",
    "V^\\pi(s) = \\sum_a \\pi(a|s) \\cdot Q^\\pi(s, a)\n",
    "$$\n",
    "\n",
    "That is, the value of a state is the **expected Q-value** under the policy's action choices.\n",
    "\n",
    "---\n",
    "\n",
    "### 📌 Summary\n",
    "\n",
    "| Function  | What it Measures             | Formula                                              |\n",
    "| --------- | ---------------------------- | ---------------------------------------------------- |\n",
    "| $V(s)$    | Value of a state             | Expected return starting from $s$                    |\n",
    "| $Q(s, a)$ | Value of a state-action pair | Expected return starting from $s$, taking action $a$ |\n"
   ]
  },
  {
   "cell_type": "markdown",
   "id": "e8318ea2",
   "metadata": {},
   "source": [
    "Sure! Here's a concise explanation of **Q-Learning**:\n",
    "\n",
    "---\n",
    "\n",
    "### ✅ **Q-Learning in Short**\n",
    "\n",
    "**Q-Learning** is a **model-free reinforcement learning algorithm** that learns the **optimal action-value function** $Q(s, a)$, which tells an agent the expected future rewards for taking action $a$ in state $s$, and then following the best policy thereafter.\n",
    "\n",
    "---\n",
    "\n",
    "### 🔁 **Key Steps:**\n",
    "\n",
    "1. **Initialize** a Q-table (or a neural network in Deep Q-Learning) with arbitrary values. With \n",
    "\n",
    "$$\n",
    "Q(s, a) \\leftarrow Q(s, a) + \\alpha \\left[ r + \\gamma \\max_{a'} Q(s', a') - Q(s, a) \\right]\n",
    "$$\n",
    "\n",
    "\n",
    "2. **Observe** the current state $s$.\n",
    "\n",
    "3. **Choose an action** $a$ using a policy (e.g., ε-greedy: mostly choose the best action, sometimes explore).\n",
    "\n",
    "4. **Take the action**, receive **reward** $r$, and observe the **next state** $s'$.\n",
    "\n",
    "5. **Update the Q-value** using the **Bellman equation**:\n",
    "\n",
    "   $$\n",
    "   Q(s, a) \\leftarrow Q(s, a) + \\alpha \\left[ r + \\gamma \\max_{a'} Q(s', a') - Q(s, a) \\right]\n",
    "   $$\n",
    "\n",
    "   * $\\alpha$: learning rate\n",
    "   * $\\gamma$: discount factor (future reward importance)\n",
    "\n",
    "6. **Repeat** for many episodes.\n",
    "\n",
    "---\n",
    "\n",
    "### 🧠 Goal:\n",
    "\n",
    "Learn the **optimal policy**:\n",
    "\n",
    "$$\n",
    "\\pi^*(s) = \\arg\\max_a Q(s, a)\n",
    "$$\n",
    "\n",
    "---\n",
    "\n",
    "Let me know if you'd like a visual or simple Python code example!\n"
   ]
  },
  {
   "cell_type": "markdown",
   "id": "e7d55440",
   "metadata": {},
   "source": [
    "\n",
    "\n",
    "---\n",
    "\n",
    "### ❓ **How can a Q-network predict the future if it hasn't seen it yet?**\n",
    "\n",
    "It **doesn't literally know the future** — instead, it **learns an estimate** of the *expected cumulative future reward* **based on past experience**. Think of it like this:\n",
    "\n",
    "> 🧠 The Q-network is guessing (predicting) how good an action is, based on similar situations it has seen before during training.\n",
    "\n",
    "---\n",
    "\n",
    "### 🔁 The trick: Bootstrapping\n",
    "\n",
    "Q-learning uses a process called **bootstrapping**. Here's how it works:\n",
    "\n",
    "Let’s say the agent sees this experience:\n",
    "\n",
    "$$\n",
    "(S_t, A_t, R_{t+1}, S_{t+1})\n",
    "$$\n",
    "\n",
    "The Q-network makes a prediction:\n",
    "\n",
    "$$\n",
    "Q(S_t, A_t)\n",
    "$$\n",
    "\n",
    "It then computes the **target value** using:\n",
    "\n",
    "$$\n",
    "\\text{Target} = R_{t+1} + \\gamma \\cdot \\max_{a'} Q(S_{t+1}, a')\n",
    "$$\n",
    "\n",
    "That second term, $\\max_{a'} Q(S_{t+1}, a')$, is the Q-network’s own estimate of the best possible future reward from the new state $S_{t+1}$. So it's like the agent is **learning from its own predictions** of the future, updating and correcting itself over time.\n",
    "\n",
    "---\n",
    "\n",
    "### 🧪 Example\n",
    "\n",
    "Imagine you're in a gridworld at position A. Your Q-network says:\n",
    "\n",
    "* Go right: Q-value = 3.0\n",
    "* Go down: Q-value = 4.5\n",
    "\n",
    "You go **down**, get a reward of +1, and land in position B.\n",
    "\n",
    "The Q-network says:\n",
    "\n",
    "* From B, the best next Q-value is 6.0\n",
    "\n",
    "So you update your estimate:\n",
    "\n",
    "$$\n",
    "Q(\\text{A}, \\text{down}) \\leftarrow 1 + \\gamma \\cdot 6.0\n",
    "$$\n",
    "\n",
    "If $\\gamma = 0.9$, this becomes:\n",
    "\n",
    "$$\n",
    "Q(\\text{A}, \\text{down}) \\leftarrow 1 + 0.9 \\cdot 6 = 6.4\n",
    "$$\n",
    "\n",
    "So the agent updates its network to try to predict 6.4 next time it's in position A and thinking of going down.\n",
    "\n",
    "---\n",
    "\n",
    "### 🧠 TL;DR\n",
    "\n",
    "* The Q-network **doesn't know the future**.\n",
    "* It **predicts** the expected total reward *based on what it's learned from past experiences*.\n",
    "* It updates its guesses using the **reward it actually gets** and its **own predictions** for the next state (bootstrapping).\n",
    "* Over time, with enough experience, it gets better at estimating long-term outcomes.\n",
    "\n"
   ]
  },
  {
   "cell_type": "markdown",
   "id": "e7821123",
   "metadata": {},
   "source": [
    "### GridWorld Game"
   ]
  },
  {
   "cell_type": "code",
   "execution_count": 1,
   "id": "4272194f",
   "metadata": {},
   "outputs": [],
   "source": [
    "from utils.Gridworld import Gridworld\n",
    "game = Gridworld(size=4, mode='static')"
   ]
  },
  {
   "cell_type": "code",
   "execution_count": 2,
   "id": "4dff2b4c",
   "metadata": {},
   "outputs": [
    {
     "data": {
      "text/plain": [
       "array([['+', '-', ' ', 'P'],\n",
       "       [' ', 'W', ' ', ' '],\n",
       "       [' ', ' ', ' ', ' '],\n",
       "       [' ', ' ', ' ', ' ']], dtype='<U2')"
      ]
     },
     "execution_count": 2,
     "metadata": {},
     "output_type": "execute_result"
    }
   ],
   "source": [
    "game.display()"
   ]
  },
  {
   "cell_type": "markdown",
   "id": "7d1a1274",
   "metadata": {},
   "source": [
    "**Symbol meanings (likely guesses):**\n",
    "\n",
    "* **'P'** — Player or agent's current position.\n",
    "* **'+'** — Goal state or a high-reward terminal state (often positive reward).\n",
    "* **'-'** — Negative terminal state (like a pit or penalty state).\n",
    "* **'W'** — Wall or obstacle (impassable cell).\n",
    "* **' '** (space) — Empty/regular cell that can be traversed.\n",
    "\n",
    "### Interpretation of the grid:\n",
    "\n",
    "* The player (`P`) starts at position `(0, 3)`.\n",
    "* The goal (`+`) is at `(0, 0)`.\n",
    "* A negative terminal (`-`) is at `(0, 1)`.\n",
    "* There's a wall (`W`) at `(1, 1)`.\n",
    "* The rest are empty navigable cells.\n",
    "\n",
    "This kind of setup is typical in grid-based MDP environments (e.g., Sutton & Barto’s examples), where an agent must learn an optimal policy to reach the goal while avoiding penalties.\n"
   ]
  },
  {
   "cell_type": "code",
   "execution_count": 7,
   "id": "1a2fa452",
   "metadata": {},
   "outputs": [
    {
     "data": {
      "text/plain": [
       "array([['+', '-', ' ', ' '],\n",
       "       [' ', 'W', ' ', ' '],\n",
       "       [' ', ' ', 'P', ' '],\n",
       "       [' ', ' ', ' ', ' ']], dtype='<U2')"
      ]
     },
     "execution_count": 7,
     "metadata": {},
     "output_type": "execute_result"
    }
   ],
   "source": [
    "game.makeMove('d')\n",
    "game.makeMove('d')\n",
    "game.makeMove('l')\n",
    "game.display()"
   ]
  },
  {
   "cell_type": "code",
   "execution_count": 8,
   "id": "46418d96",
   "metadata": {},
   "outputs": [
    {
     "data": {
      "text/plain": [
       "array([[[0, 0, 0, 0],\n",
       "        [0, 0, 0, 0],\n",
       "        [0, 0, 1, 0],\n",
       "        [0, 0, 0, 0]],\n",
       "\n",
       "       [[1, 0, 0, 0],\n",
       "        [0, 0, 0, 0],\n",
       "        [0, 0, 0, 0],\n",
       "        [0, 0, 0, 0]],\n",
       "\n",
       "       [[0, 1, 0, 0],\n",
       "        [0, 0, 0, 0],\n",
       "        [0, 0, 0, 0],\n",
       "        [0, 0, 0, 0]],\n",
       "\n",
       "       [[0, 0, 0, 0],\n",
       "        [0, 1, 0, 0],\n",
       "        [0, 0, 0, 0],\n",
       "        [0, 0, 0, 0]]], dtype=uint8)"
      ]
     },
     "execution_count": 8,
     "metadata": {},
     "output_type": "execute_result"
    }
   ],
   "source": [
    "game.board.render_np()"
   ]
  },
  {
   "cell_type": "code",
   "execution_count": 9,
   "id": "9af57c2f",
   "metadata": {},
   "outputs": [
    {
     "data": {
      "text/plain": [
       "(4, 4, 4)"
      ]
     },
     "execution_count": 9,
     "metadata": {},
     "output_type": "execute_result"
    }
   ],
   "source": [
    "game.board.render_np().shape"
   ]
  },
  {
   "cell_type": "code",
   "execution_count": 7,
   "id": "709b82b8",
   "metadata": {},
   "outputs": [],
   "source": [
    "import numpy as np\n",
    "import torch\n",
    "from utils.Gridworld import Gridworld\n",
    "import random\n",
    "from matplotlib import pylab as plt\n",
    "\n",
    "# 4x4x4 input layer\n",
    "l1 = 64\n",
    "# 2 hidden layers\n",
    "l2 = 150\n",
    "l3 = 100\n",
    "# output layer given 4 actions 'left', 'right', 'up', 'down'\n",
    "l4 = 4\n",
    "\n",
    "# initialize model\n",
    "model = torch.nn.Sequential(\n",
    "torch.nn.Linear(l1, l2),\n",
    "torch.nn.ReLU(),\n",
    "torch.nn.Linear(l2, l3),\n",
    "torch.nn.ReLU(),\n",
    "torch.nn.Linear(l3,l4)\n",
    ")\n",
    "\n",
    "# loss function\n",
    "loss_fn = torch.nn.MSELoss()\n",
    "learning_rate = 1e-3\n",
    "# optimizer\n",
    "optimizer = torch.optim.Adam(model.parameters(), lr=learning_rate)\n",
    "\n",
    "# hyperparameters\n",
    "# discount factor\n",
    "gamma = 0.9\n",
    "# epsilon for exploration\n",
    "epsilon = 1.0"
   ]
  },
  {
   "cell_type": "code",
   "execution_count": 8,
   "id": "4661f278",
   "metadata": {},
   "outputs": [],
   "source": [
    "# set of actions mapped to strings\n",
    "action_set = {\n",
    "                0: 'u',\n",
    "                1: 'd',\n",
    "                2: 'l',\n",
    "                3: 'r',\n",
    "            }"
   ]
  },
  {
   "cell_type": "code",
   "execution_count": 14,
   "id": "7c85f6a2",
   "metadata": {},
   "outputs": [
    {
     "name": "stderr",
     "output_type": "stream",
     "text": [
      "  0%|          | 0/1000 [00:00<?, ?it/s]/home/ankit/miniconda3/envs/ML/lib/python3.9/site-packages/torch/nn/modules/loss.py:608: UserWarning: Using a target size (torch.Size([1])) that is different to the input size (torch.Size([])). This will likely lead to incorrect results due to broadcasting. Please ensure they have the same size.\n",
      "  return F.mse_loss(input, target, reduction=self.reduction)\n",
      "100%|██████████| 1000/1000 [01:26<00:00, 11.59it/s]\n"
     ]
    }
   ],
   "source": [
    "import tqdm \n",
    "# Number of epochs\n",
    "epochs = 1000\n",
    "\n",
    "# empty list to store losses\n",
    "losses = []\n",
    "for i in tqdm.tqdm(range(epochs)): \n",
    "    # initialize game\n",
    "    game = Gridworld(size=4, mode='static') \n",
    "    # get initial state and add random noise\n",
    "    # Why did we add noise to the game state? It helps prevent “dead neurons,”\n",
    "    # which can happen with the use of rectified linear units (ReLU) as our\n",
    "    # activation function. Basically, because most of the elements in our game\n",
    "    # state array are 0s, they won’t play nice with ReLU, which is technically nondifferentiable\n",
    "    # at 0. Hence, we add a tiny bit of noise so that none of the values\n",
    "    # in the state array are exactly 0. This might also help with overfitting,\n",
    "\n",
    "    state_ = game.board.render_np().reshape(1,64) + np.random.rand(1,64)/10.0 \n",
    "    # convert to tensor\n",
    "    state = torch.from_numpy(state_).float() \n",
    "    # initialize status 1 if game is still being played\n",
    "    status = 1 \n",
    "    # play the game\n",
    "    while(status == 1): \n",
    "        # get Q values of current state\n",
    "        qval = model(state) \n",
    "        # convert to numpy\n",
    "        qval_ = qval.data.numpy()\n",
    "\n",
    "        # Greedy Epsilon strategy to decide next action\n",
    "        if (random.random() < epsilon): \n",
    "            action_ = np.random.randint(0,4)\n",
    "        else:\n",
    "            action_ = np.argmax(qval_)\n",
    "        \n",
    "        # get key for action\n",
    "        action = action_set[action_]\n",
    "\n",
    "        # make move \n",
    "        game.makeMove(action) \n",
    "\n",
    "        # get next state\n",
    "        state2_ = game.board.render_np().reshape(1,64) + np.random.rand(1,64)/10.0\n",
    "        state2 = torch.from_numpy(state2_).float() \n",
    "        # get reward\n",
    "        # every nonwinning\n",
    "        # move receives a –1 reward. The winning move (reaching the goal) receives a +10\n",
    "        # reward, and there’s a –10 reward for the losing move (landing on the pit).\n",
    "        reward = game.reward()\n",
    "\n",
    "        # save memory by not saving the gradient for new Q\n",
    "        with torch.no_grad():\n",
    "            newQ = model(state2.reshape(1,64))\n",
    "        # get maximum Q for target Q value\n",
    "        maxQ = torch.max(newQ) \n",
    "        # if nonwinning move\n",
    "        if reward == -1: \n",
    "            Y = reward + (gamma * maxQ)\n",
    "        # if ended up in pit or reached goal\n",
    "        else: \n",
    "            Y = reward\n",
    "        \n",
    "        # detach the tensor from the computation graph\n",
    "        Y = torch.Tensor([Y]).detach()\n",
    "\n",
    "        # This applies the squeeze() method to the tensor qval, \n",
    "        # which removes any singleton dimensions (i.e., dimensions of size 1) \n",
    "        # from the tensor. \n",
    "        # This is often used to remove unnecessary dimensions from a tensor.\n",
    "        X = qval.squeeze()[action_] \n",
    "\n",
    "        # get loss from target and prediction\n",
    "        loss = loss_fn(X, Y) \n",
    "        #print(i, loss.item())\n",
    "        # clear_output(wait=True)\n",
    "\n",
    "        # make the gradients zero\n",
    "        optimizer.zero_grad()\n",
    "        # backpropagate loss\n",
    "        loss.backward()\n",
    "        # append loss\n",
    "        losses.append(loss.item())\n",
    "        # readjust the weights\n",
    "        optimizer.step()\n",
    "\n",
    "        # set new state\n",
    "        state = state2\n",
    "        # check if the game is to be stopped\n",
    "        if reward != -1: \n",
    "            status = 0\n",
    "    # implement adaptive epsilon greedy strategy\n",
    "    if epsilon > 0.1: \n",
    "        epsilon -= (1/epochs)"
   ]
  },
  {
   "cell_type": "code",
   "execution_count": 15,
   "id": "9acfca01",
   "metadata": {},
   "outputs": [
    {
     "data": {
      "text/plain": [
       "Text(0, 0.5, 'Loss')"
      ]
     },
     "execution_count": 15,
     "metadata": {},
     "output_type": "execute_result"
    },
    {
     "data": {
      "image/png": "[encoded data removed]",
      "text/plain": [
       "<Figure size 1000x700 with 1 Axes>"
      ]
     },
     "metadata": {},
     "output_type": "display_data"
    }
   ],
   "source": [
    "plt.figure(figsize=(10,7))\n",
    "plt.plot(losses)\n",
    "plt.xlabel(\"Epochs\",fontsize=22)\n",
    "plt.ylabel(\"Loss\",fontsize=22)"
   ]
  },
  {
   "cell_type": "code",
   "execution_count": 4,
   "id": "2298459f",
   "metadata": {},
   "outputs": [],
   "source": [
    "# Function for the testing\n",
    "def test_model(model, mode='static', display=True):\n",
    "    i = 0\n",
    "    # initialize game\n",
    "    test_game = Gridworld(mode=mode)\n",
    "    # get initial state and add random noise\n",
    "    state_ = test_game.board.render_np().reshape(1,64) + np.random.rand(1,64)/10.0\n",
    "    state = torch.from_numpy(state_).float()\n",
    "    if display:\n",
    "        print(\"Initial State:\")\n",
    "        print(test_game.display())\n",
    "    status = 1\n",
    "    while(status == 1): \n",
    "        # get Q values of current state\n",
    "        qval = model(state)\n",
    "        qval_ = qval.data.numpy()\n",
    "        # get action for the maximum Q\n",
    "        action_ = np.argmax(qval_)\n",
    "        action = action_set[action_]\n",
    "        if display:\n",
    "            print('Move #: %s; Taking action: %s' % (i, action))\n",
    "        \n",
    "        # make move\n",
    "        test_game.makeMove(action)\n",
    "        # get next state\n",
    "        state_ = test_game.board.render_np().reshape(1,64) + np.random.rand(1,64)/10.0\n",
    "        # convert to tensor\n",
    "        state = torch.from_numpy(state_).float()\n",
    "        if display:\n",
    "            print(test_game.display())\n",
    "        \n",
    "        # get reward\n",
    "        reward = test_game.reward()\n",
    "        # check if the game is to be stopped\n",
    "        if reward != -1:\n",
    "            if reward > 0:\n",
    "                status = 2\n",
    "                if display:\n",
    "                    print(\"Game won! Reward: %s\" % (reward,))\n",
    "            else:\n",
    "                status = 0\n",
    "                if display:\n",
    "                    print(\"Game LOST. Reward: %s\" % (reward,))\n",
    "        i += 1\n",
    "        if (i > 15):\n",
    "            if display:\n",
    "                print(\"Game lost; too many moves.\")\n",
    "            break\n",
    "    \n",
    "    win = True if status == 2 else False\n",
    "    return win"
   ]
  },
  {
   "cell_type": "code",
   "execution_count": 29,
   "id": "7f40a663",
   "metadata": {},
   "outputs": [
    {
     "name": "stdout",
     "output_type": "stream",
     "text": [
      "Initial State:\n",
      "[['+' '-' ' ' 'P']\n",
      " [' ' 'W' ' ' ' ']\n",
      " [' ' ' ' ' ' ' ']\n",
      " [' ' ' ' ' ' ' ']]\n",
      "Move #: 0; Taking action: d\n",
      "[['+' '-' ' ' ' ']\n",
      " [' ' 'W' ' ' 'P']\n",
      " [' ' ' ' ' ' ' ']\n",
      " [' ' ' ' ' ' ' ']]\n",
      "Move #: 1; Taking action: d\n",
      "[['+' '-' ' ' ' ']\n",
      " [' ' 'W' ' ' ' ']\n",
      " [' ' ' ' ' ' 'P']\n",
      " [' ' ' ' ' ' ' ']]\n",
      "Move #: 2; Taking action: l\n",
      "[['+' '-' ' ' ' ']\n",
      " [' ' 'W' ' ' ' ']\n",
      " [' ' ' ' 'P' ' ']\n",
      " [' ' ' ' ' ' ' ']]\n",
      "Move #: 3; Taking action: l\n",
      "[['+' '-' ' ' ' ']\n",
      " [' ' 'W' ' ' ' ']\n",
      " [' ' 'P' ' ' ' ']\n",
      " [' ' ' ' ' ' ' ']]\n",
      "Move #: 4; Taking action: l\n",
      "[['+' '-' ' ' ' ']\n",
      " [' ' 'W' ' ' ' ']\n",
      " ['P' ' ' ' ' ' ']\n",
      " [' ' ' ' ' ' ' ']]\n",
      "Move #: 5; Taking action: u\n",
      "[['+' '-' ' ' ' ']\n",
      " ['P' 'W' ' ' ' ']\n",
      " [' ' ' ' ' ' ' ']\n",
      " [' ' ' ' ' ' ' ']]\n",
      "Move #: 6; Taking action: u\n",
      "[['+' '-' ' ' ' ']\n",
      " [' ' 'W' ' ' ' ']\n",
      " [' ' ' ' ' ' ' ']\n",
      " [' ' ' ' ' ' ' ']]\n",
      "Game won! Reward: 10\n"
     ]
    },
    {
     "data": {
      "text/plain": [
       "True"
      ]
     },
     "execution_count": 29,
     "metadata": {},
     "output_type": "execute_result"
    }
   ],
   "source": [
    "test_model(model, mode='static', display=True)"
   ]
  },
  {
   "cell_type": "code",
   "execution_count": 30,
   "id": "f0dd7a84",
   "metadata": {},
   "outputs": [
    {
     "name": "stdout",
     "output_type": "stream",
     "text": [
      "Initial State:\n",
      "[[' ' ' ' 'P' ' ']\n",
      " ['-' ' ' ' ' ' ']\n",
      " [' ' ' ' ' ' ' ']\n",
      " [' ' 'W' '+' ' ']]\n",
      "Move #: 0; Taking action: d\n",
      "[[' ' ' ' ' ' ' ']\n",
      " ['-' ' ' 'P' ' ']\n",
      " [' ' ' ' ' ' ' ']\n",
      " [' ' 'W' '+' ' ']]\n",
      "Move #: 1; Taking action: d\n",
      "[[' ' ' ' ' ' ' ']\n",
      " ['-' ' ' ' ' ' ']\n",
      " [' ' ' ' 'P' ' ']\n",
      " [' ' 'W' '+' ' ']]\n",
      "Move #: 2; Taking action: l\n",
      "[[' ' ' ' ' ' ' ']\n",
      " ['-' ' ' ' ' ' ']\n",
      " [' ' 'P' ' ' ' ']\n",
      " [' ' 'W' '+' ' ']]\n",
      "Move #: 3; Taking action: l\n",
      "[[' ' ' ' ' ' ' ']\n",
      " ['-' ' ' ' ' ' ']\n",
      " ['P' ' ' ' ' ' ']\n",
      " [' ' 'W' '+' ' ']]\n",
      "Move #: 4; Taking action: u\n",
      "[[' ' ' ' ' ' ' ']\n",
      " ['-' ' ' ' ' ' ']\n",
      " [' ' ' ' ' ' ' ']\n",
      " [' ' 'W' '+' ' ']]\n",
      "Game LOST. Reward: -10\n"
     ]
    },
    {
     "data": {
      "text/plain": [
       "False"
      ]
     },
     "execution_count": 30,
     "metadata": {},
     "output_type": "execute_result"
    }
   ],
   "source": [
    "test_model(model, mode='random', display=True)"
   ]
  },
  {
   "cell_type": "markdown",
   "id": "2ef0d75f",
   "metadata": {},
   "source": [
    "It seems like the model just memorized the particular board it was trained on and didn’t generalize at all."
   ]
  },
  {
   "cell_type": "markdown",
   "id": "4489bcd9",
   "metadata": {},
   "source": [
    "### catastrophic forgetting\n",
    "\n",
    "The main problem we encountered in the previous section when we tried to train our\n",
    "model on random mode has a name: catastrophic forgetting. It’s actually a very important\n",
    "issue associated with gradient descent-based training methods in online training.\n",
    "Online training is what we’ve been doing: we backpropagate after each move as we\n",
    "play the game.\n",
    "\n",
    "Imagine that our algorithm is training on (learning Q values for) game 1 of figure\n",
    "3.12. The player is placed between the pit and the goal such that the goal is on the\n",
    "right and the pit is on the left. Using an epsilon-greedy strategy, the player takes a random\n",
    "move and by chance steps to the right and hits the goal. Great! The algorithm\n",
    "will try to learn that this state-action pair is associated with a high value by updating its\n",
    "weights in such a way that the output will more closely match the target value (i.e. via\n",
    "backpropagation).\n",
    "\n",
    "Now game 2 is initialized and the player is again between the goal and pit, but this\n",
    "time the goal is on the left and the pit is on the right. Perhaps to our naive algorithm, the\n",
    "state seems very similar to the last game. Since last time moving right gave a nice positive\n",
    "reward, the player chooses to make one step to the right again, but this time it ends up\n",
    "in the pit and gets –1 reward. The player is thinking, “What is going on? I thought going\n",
    "to the right was the best decision based on my previous experience.” It may do backpropagation\n",
    "again to update its state-action value, but because this state-action is very\n",
    "similar to the last learned state-action, it may override its previously learned weights.\n",
    "\n",
    "\n",
    "This is the essence of catastrophic forgetting. There’s a push-pull between very similar\n",
    "state-actions (but with divergent targets) that results in this inability to properly learn\n",
    "anything."
   ]
  },
  {
   "cell_type": "markdown",
   "id": "65c818bd",
   "metadata": {},
   "source": [
    "### Experience Replay\n",
    "\n",
    "- In state $s$, take action $a$, and observe the new state $s_{t+1}$ and reward $r_{t+1}$.\n",
    "- Store this as a tuple $(s, a, s_{t+1}, r_{t+1})$ in a list.\n",
    "- Continue to store each experience in this list until you have filled the list to a\n",
    "specific length (this is up to you to define).\n",
    "- Once the experience replay memory is filled, randomly select a subset (again,\n",
    "you need to define the subset size).\n",
    "- Iterate through this subset and calculate value updates for each subset; store\n",
    "these in a target array (such as $Y$) and store the state, $s$, of each memory in $X$.\n",
    "- Use $X$ and $Y$ as a mini-batch for batch training. For subsequent epochs where the\n",
    "array is full, just overwrite old values in your experience replay memory array."
   ]
  },
  {
   "cell_type": "code",
   "execution_count": 2,
   "id": "8d6d6363",
   "metadata": {},
   "outputs": [
    {
     "name": "stderr",
     "output_type": "stream",
     "text": [
      "100%|██████████| 5000/5000 [25:44<00:00,  3.24it/s]  \n"
     ]
    }
   ],
   "source": [
    "import numpy as np\n",
    "import torch\n",
    "from utils.Gridworld import Gridworld\n",
    "import random\n",
    "from matplotlib import pylab as plt\n",
    "from collections import deque\n",
    "import tqdm\n",
    "\n",
    "# 4x4x4 input layer\n",
    "l1 = 64\n",
    "# 2 hidden layers\n",
    "l2 = 150\n",
    "l3 = 100\n",
    "# output layer given 4 actions 'left', 'right', 'up', 'down'\n",
    "l4 = 4\n",
    "\n",
    "# initialize model\n",
    "model = torch.nn.Sequential(\n",
    "torch.nn.Linear(l1, l2),\n",
    "torch.nn.ReLU(),\n",
    "torch.nn.Linear(l2, l3),\n",
    "torch.nn.ReLU(),\n",
    "torch.nn.Linear(l3,l4)\n",
    ")\n",
    "\n",
    "# loss function\n",
    "loss_fn = torch.nn.MSELoss()\n",
    "learning_rate = 1e-3\n",
    "# optimizer\n",
    "optimizer = torch.optim.Adam(model.parameters(), lr=learning_rate)\n",
    "\n",
    "# hyperparameters\n",
    "# discount factor\n",
    "gamma = 0.9\n",
    "# epsilon for exploration\n",
    "epsilon = 1.0\n",
    "# set of actions mapped to strings\n",
    "action_set = {\n",
    "                0: 'u',\n",
    "                1: 'd',\n",
    "                2: 'l',\n",
    "                3: 'r',\n",
    "            }\n",
    "\n",
    "\n",
    "# number of epochs\n",
    "epochs = 5000\n",
    "\n",
    "losses = []\n",
    "\n",
    "# setting memory for experience replay\n",
    "mem_size = 1000 \n",
    "# setting batch size\n",
    "batch_size = 200 \n",
    "# setting memory as deque list\n",
    "# A deque is a data structure that allows you to add or remove elements from both ends (i.e., the beginning and the end).\n",
    "# maxlen=mem_size sets the maximum length of the deque to mem_size. \n",
    "# This means that when the deque reaches this length, adding a new element will automatically remove \n",
    "# the oldest element to make room for the new one.\n",
    "replay = deque(maxlen=mem_size) \n",
    "\n",
    "# max moves before the game ends\n",
    "max_moves = 50 \n",
    "h = 0\n",
    "for i in tqdm.tqdm(range(epochs)):\n",
    "    # initialize game with random board\n",
    "    game = Gridworld(size=4, mode='random')\n",
    "    state1_ = game.board.render_np().reshape(1,64) + np.random.rand(1,64)/100.0\n",
    "    state1 = torch.from_numpy(state1_).float()\n",
    "    status = 1\n",
    "    # counter for the number of moves\n",
    "    mov = 0\n",
    "    while(status == 1): \n",
    "        mov += 1\n",
    "        # get Q values of current state\n",
    "        qval = model(state1) \n",
    "        qval_ = qval.data.numpy()\n",
    "        if (random.random() < epsilon): \n",
    "            action_ = np.random.randint(0,4)\n",
    "        else:\n",
    "            action_ = np.argmax(qval_)\n",
    "        \n",
    "        action = action_set[action_]\n",
    "        game.makeMove(action)\n",
    "        state2_ = game.board.render_np().reshape(1,64) + np.random.rand(1,64)/100.0\n",
    "        state2 = torch.from_numpy(state2_).float()\n",
    "        reward = game.reward()\n",
    "        done = True if reward > 0 else False\n",
    "\n",
    "        # create memory\n",
    "        exp =  (state1, action_, reward, state2, done) \n",
    "        # append memory\n",
    "        replay.append(exp) \n",
    "        # update state\n",
    "        state1 = state2\n",
    "        \n",
    "        # check if the number of moves is greater than batch size\n",
    "        if len(replay) > batch_size: \n",
    "            # sample batch size randomly from replay\n",
    "            minibatch = random.sample(replay, batch_size) \n",
    "\n",
    "            # separate states, actions, rewards, next states and dones\n",
    "            state1_batch = torch.cat([s1 for (s1,a,r,s2,d) in minibatch]) \n",
    "            action_batch = torch.Tensor([a for (s1,a,r,s2,d) in minibatch])\n",
    "            reward_batch = torch.Tensor([r for (s1,a,r,s2,d) in minibatch])\n",
    "            state2_batch = torch.cat([s2 for (s1,a,r,s2,d) in minibatch])\n",
    "            done_batch = torch.Tensor([d for (s1,a,r,s2,d) in minibatch])\n",
    "            \n",
    "            # get Q values from randomly sampled batch\n",
    "            Q1 = model(state1_batch) \n",
    "            with torch.no_grad():\n",
    "                Q2 = model(state2_batch) \n",
    "            \n",
    "            # Compute Targets using Bellman Equation\n",
    "            # If episode is done, future rewards are ignored using (1 - done_batch)\n",
    "            Y = reward_batch + gamma * ((1 - done_batch) * torch.max(Q2,dim=1)[0]) \n",
    "            # Select Q-values of taken actions from Q1\n",
    "            X = Q1.gather(dim=1,index=action_batch.long().unsqueeze(dim=1)).squeeze()\n",
    "            loss = loss_fn(X, Y.detach())\n",
    "            # print(i, loss.item())\n",
    "            # clear_output(wait=True)\n",
    "            optimizer.zero_grad()\n",
    "            loss.backward()\n",
    "            losses.append(loss.item())\n",
    "            optimizer.step()\n",
    "\n",
    "        if reward != -1 or mov > max_moves: \n",
    "            status = 0\n",
    "            mov = 0\n",
    "losses = np.array(losses)"
   ]
  },
  {
   "cell_type": "markdown",
   "id": "7b93db74",
   "metadata": {},
   "source": [
    "\n",
    "Each episode (game) runs:\n",
    "\n",
    "```python\n",
    "while status == 1:\n",
    "    mov += 1\n",
    "    ...\n",
    "    replay.append(exp)\n",
    "```\n",
    "\n",
    "We **append one transition per move**, so:\n",
    "\n",
    "* After each **episode**, you add up to **50 experiences** to `replay`.\n",
    "* So, the replay buffer starts small and fills up gradually.\n",
    "* The `if len(replay) > batch_size:` condition is only satisfied after **at least 201 experiences**.\n",
    "\n",
    "This means:\n",
    "\n",
    "* **No training** happens in the **first few episodes**.\n",
    "* Training starts around episode **5 to 6**, since 50 moves × 5 episodes ≈ 250 transitions → buffer large enough.\n",
    "\n",
    "---\n",
    "\n",
    "### 📌 What does this mean practically?\n",
    "\n",
    "* For episodes **1–5**, the agent plays but doesn’t learn (only fills replay buffer).\n",
    "* From episode **6 onward**, training starts using **random minibatches of size 200**.\n",
    "* The buffer **never exceeds 1000 items** due to `maxlen=1000`.\n"
   ]
  },
  {
   "cell_type": "code",
   "execution_count": 3,
   "id": "7252b548",
   "metadata": {},
   "outputs": [
    {
     "data": {
      "text/plain": [
       "Text(0, 0.5, 'Loss')"
      ]
     },
     "execution_count": 3,
     "metadata": {},
     "output_type": "execute_result"
    },
    {
     "data": {
      "image/png": "[encoded data removed]",
      "text/plain": [
       "<Figure size 1000x700 with 1 Axes>"
      ]
     },
     "metadata": {},
     "output_type": "display_data"
    }
   ],
   "source": [
    "plt.figure(figsize=(10,7))\n",
    "plt.plot(losses)\n",
    "plt.xlabel(\"Epochs\",fontsize=22)\n",
    "plt.ylabel(\"Loss\",fontsize=22)"
   ]
  },
  {
   "cell_type": "code",
   "execution_count": 6,
   "id": "8019597e",
   "metadata": {},
   "outputs": [
    {
     "name": "stdout",
     "output_type": "stream",
     "text": [
      "Games played: 1000, # of wins: 597\n",
      "Win percentage: 0.597\n"
     ]
    }
   ],
   "source": [
    "max_games = 1000\n",
    "wins = 0\n",
    "for i in range(max_games):\n",
    "    win = test_model(model, mode='random', display=False)\n",
    "    if win:\n",
    "        wins += 1\n",
    "win_perc = float(wins) / float(max_games)\n",
    "print(\"Games played: {0}, # of wins: {1}\".format(max_games,wins))\n",
    "print(\"Win percentage: {}\".format(win_perc))"
   ]
  },
  {
   "cell_type": "markdown",
   "id": "a1db3e19",
   "metadata": {},
   "source": [
    " Model is able win 60% of the games."
   ]
  },
  {
   "cell_type": "markdown",
   "id": "e7da2bd2",
   "metadata": {},
   "source": [
    "### Target Network\n",
    "\n",
    "Unfortunately, even though the algorithm appears to learn how to play, it is quite possible it is\n",
    "just memorizing all the possible board configurations, since there aren’t that many on 4x4 board.\n",
    "To help address this, we’ll add another dimension to the updating\n",
    "rule that will smooth out the value updates.\n",
    "\n",
    "\n",
    "1. **Initialize Q-network with parameters** `θ_Q`\n",
    "\n",
    "   > Your main model: `model = QNetwork()`\n",
    "\n",
    "2. **Initialize target network** with **same weights**: `θ_T = θ_Q`\n",
    "\n",
    "   > `target_model.load_state_dict(model.state_dict())`\n",
    "   > This network is *not trained* continuously, only updated periodically.\n",
    "\n",
    "3. **Use epsilon-greedy strategy** with Q-network to choose action `a`\n",
    "\n",
    "   > Use the Q-network for action selection:\n",
    "\n",
    "   ```python\n",
    "   if random() < epsilon:\n",
    "       action = random.choice(actions)\n",
    "   else:\n",
    "       qvals = model(state)\n",
    "       action = torch.argmax(qvals)\n",
    "   ```\n",
    "\n",
    "4. **Take action**, observe reward `rₜ₊₁` and new state `sₜ₊₁`\n",
    "\n",
    "   > Standard interaction with the environment\n",
    "\n",
    "5. **Compute target Q-value** using **target network**:\n",
    "\n",
    "   ```python\n",
    "   if done:\n",
    "       target = reward\n",
    "   else:\n",
    "       with torch.no_grad():\n",
    "           target = reward + gamma * torch.max(target_model(next_state))\n",
    "   ```\n",
    "\n",
    "   > This keeps the target stable — the key to DQN’s stability.\n",
    "\n",
    "6. **Update Q-network** (not target network) by minimizing the loss:\n",
    "\n",
    "   ```python\n",
    "   pred = model(state)[action]\n",
    "   loss = MSELoss(pred, target)\n",
    "   optimizer.zero_grad()\n",
    "   loss.backward()\n",
    "   optimizer.step()\n",
    "   ```\n",
    "\n",
    "7. **Every `C` steps**, update target network: `θ_T ← θ_Q`\n",
    "\n",
    "   ```python\n",
    "   if step % C == 0:\n",
    "       target_model.load_state_dict(model.state_dict())\n",
    "   ```\n",
    "\n",
    "\n"
   ]
  },
  {
   "cell_type": "code",
   "execution_count": 7,
   "id": "e0863096",
   "metadata": {},
   "outputs": [],
   "source": [
    "import copy\n",
    "\n",
    "l1 = 64\n",
    "l2 = 150\n",
    "l3 = 100\n",
    "l4 = 4\n",
    "\n",
    "# Q network\n",
    "model = torch.nn.Sequential(\n",
    "    torch.nn.Linear(l1, l2),\n",
    "    torch.nn.ReLU(),\n",
    "    torch.nn.Linear(l2, l3),\n",
    "    torch.nn.ReLU(),\n",
    "    torch.nn.Linear(l3,l4)\n",
    ")\n",
    "\n",
    "# target network\n",
    "model2 = copy.deepcopy(model) \n",
    "# copy parameters of original model\n",
    "model2.load_state_dict(model.state_dict())\n",
    "\n",
    "# loss fn\n",
    "loss_fn = torch.nn.MSELoss()\n",
    "learning_rate = 1e-3\n",
    "optimizer = torch.optim.Adam(model.parameters(), lr=learning_rate)\n",
    "\n",
    "# hyperparameters\n",
    "gamma = 0.9\n",
    "epsilon = 0.3"
   ]
  },
  {
   "cell_type": "code",
   "execution_count": 8,
   "id": "cf3a63f0",
   "metadata": {},
   "outputs": [
    {
     "name": "stderr",
     "output_type": "stream",
     "text": [
      "100%|██████████| 5000/5000 [10:55<00:00,  7.62it/s]\n"
     ]
    }
   ],
   "source": [
    "from collections import deque\n",
    "import tqdm \n",
    "\n",
    "# similar to experience replay\n",
    "epochs = 5000\n",
    "losses = []\n",
    "mem_size = 1000\n",
    "batch_size = 200\n",
    "replay = deque(maxlen=mem_size)\n",
    "max_moves = 50\n",
    "h = 0\n",
    "\n",
    "# sync frequency between Q network and target network\n",
    "sync_freq = 500\n",
    "j=0\n",
    "for i in tqdm.tqdm(range(epochs)):\n",
    "    game = Gridworld(size=4, mode='random')\n",
    "    # get initial state\n",
    "    state1_ = game.board.render_np().reshape(1,64) + np.random.rand(1,64)/100.0\n",
    "    state1 = torch.from_numpy(state1_).float()\n",
    "    status = 1\n",
    "    mov = 0\n",
    "    while(status == 1): \n",
    "        j+=1\n",
    "        mov += 1\n",
    "        # get Q values\n",
    "        qval = model(state1)\n",
    "        qval_ = qval.data.numpy()\n",
    "        # epsilon-greedy\n",
    "        if (random.random() < epsilon):\n",
    "            action_ = np.random.randint(0,4)\n",
    "        else:\n",
    "            action_ = np.argmax(qval_)\n",
    "        action = action_set[action_]\n",
    "        # make move\n",
    "        game.makeMove(action)\n",
    "        # get next state\n",
    "        state2_ = game.board.render_np().reshape(1,64) + np.random.rand(1,64)/100.0\n",
    "        state2 = torch.from_numpy(state2_).float()\n",
    "        # get reward from Q model\n",
    "        reward = game.reward()\n",
    "        done = True if reward > 0 else False\n",
    "        exp =  (state1, action_, reward, state2, done)\n",
    "        # append memory\n",
    "        replay.append(exp)\n",
    "        # update state\n",
    "        state1 = state2\n",
    "        \n",
    "        if len(replay) > batch_size:\n",
    "            # Experience replay part\n",
    "            minibatch = random.sample(replay, batch_size)\n",
    "            state1_batch = torch.cat([s1 for (s1,a,r,s2,d) in minibatch])\n",
    "            action_batch = torch.Tensor([a for (s1,a,r,s2,d) in minibatch])\n",
    "            reward_batch = torch.Tensor([r for (s1,a,r,s2,d) in minibatch])\n",
    "            state2_batch = torch.cat([s2 for (s1,a,r,s2,d) in minibatch])\n",
    "            done_batch = torch.Tensor([d for (s1,a,r,s2,d) in minibatch])\n",
    "            # get Q values using model from randomly sampled batch m\n",
    "            Q1 = model(state1_batch)\n",
    "            with torch.no_grad():\n",
    "                # get Q values from target network\n",
    "                Q2 = model2(state2_batch)\n",
    "            # compute target Q values using target model Q2\n",
    "            Y = reward_batch + gamma * ((1-done_batch) * torch.max(Q2,dim=1)[0])\n",
    "            # select Q-values of taken actions from Q1\n",
    "            X = Q1.gather(dim=1,index=action_batch.long().unsqueeze(dim=1)).squeeze()\n",
    "\n",
    "            # compute loss and backpropagate\n",
    "            loss = loss_fn(X, Y.detach())\n",
    "            optimizer.zero_grad()\n",
    "            loss.backward()\n",
    "            losses.append(loss.item())\n",
    "            optimizer.step()\n",
    "            \n",
    "            # update target network weights from Q1 every sync_freq\n",
    "            if j % sync_freq == 0: #C\n",
    "                model2.load_state_dict(model.state_dict())\n",
    "                \n",
    "        # check if game is to be stopped\n",
    "        if reward != -1 or mov > max_moves:\n",
    "            status = 0\n",
    "            mov = 0\n",
    "        \n",
    "losses = np.array(losses)"
   ]
  },
  {
   "cell_type": "code",
   "execution_count": 9,
   "id": "3e4a626e",
   "metadata": {},
   "outputs": [
    {
     "data": {
      "text/plain": [
       "Text(0, 0.5, 'Loss')"
      ]
     },
     "execution_count": 9,
     "metadata": {},
     "output_type": "execute_result"
    },
    {
     "data": {
      "image/png": "[encoded data removed]",
      "text/plain": [
       "<Figure size 1000x700 with 1 Axes>"
      ]
     },
     "metadata": {},
     "output_type": "display_data"
    }
   ],
   "source": [
    "plt.figure(figsize=(10,7))\n",
    "plt.plot(losses)\n",
    "plt.xlabel(\"Epochs\",fontsize=22)\n",
    "plt.ylabel(\"Loss\",fontsize=22)"
   ]
  },
  {
   "cell_type": "code",
   "execution_count": 10,
   "id": "d7882387",
   "metadata": {},
   "outputs": [
    {
     "name": "stdout",
     "output_type": "stream",
     "text": [
      "Games played: 1000, # of wins: 917\n",
      "Win percentage: 0.917\n"
     ]
    }
   ],
   "source": [
    "max_games = 1000\n",
    "wins = 0\n",
    "for i in range(max_games):\n",
    "    win = test_model(model2, mode='random', display=False)\n",
    "    if win:\n",
    "        wins += 1\n",
    "win_perc = float(wins) / float(max_games)\n",
    "print(\"Games played: {0}, # of wins: {1}\".format(max_games,wins))\n",
    "print(\"Win percentage: {}\".format(win_perc))"
   ]
  },
  {
   "cell_type": "markdown",
   "id": "77be743e",
   "metadata": {},
   "source": [
    "Trying CNN along with fully connected layer"
   ]
  },
  {
   "cell_type": "code",
   "execution_count": 1,
   "id": "225b3d77",
   "metadata": {},
   "outputs": [
    {
     "name": "stderr",
     "output_type": "stream",
     "text": [
      "100%|██████████| 5000/5000 [31:13<00:00,  2.67it/s]   \n"
     ]
    }
   ],
   "source": [
    "import copy\n",
    "import torch\n",
    "from collections import deque\n",
    "import tqdm \n",
    "from utils.Gridworld import Gridworld\n",
    "import numpy as np \n",
    "import random\n",
    "\n",
    "l1 = 64\n",
    "l2 = 150\n",
    "l3 = 100\n",
    "l4 = 4\n",
    "\n",
    "# Q network\n",
    "model = torch.nn.Sequential(\n",
    "    torch.nn.Conv2d(in_channels=4, out_channels=16, kernel_size=2),\n",
    "    # torch.nn.Linear(l1, l2),\n",
    "    # torch.nn.ReLU(),\n",
    "    # torch.nn.Linear(l2, l3),\n",
    "    torch.nn.ReLU(),\n",
    "    torch.nn.Flatten(),\n",
    "    torch.nn.Linear(144,l4)\n",
    ")\n",
    "\n",
    "# Conv layer produces output\n",
    "# [batch_size, 16, 3, 3]  # (no padding, stride=1)\n",
    "# Because with kernel size 2 and input size 4, output size is:\n",
    "# output = input - kernel + 1 = 4 - 2 + 1 = 3\n",
    "\n",
    "\n",
    "# target network\n",
    "model2 = copy.deepcopy(model) \n",
    "# copy parameters of original model\n",
    "model2.load_state_dict(model.state_dict())\n",
    "\n",
    "# loss fn\n",
    "loss_fn = torch.nn.MSELoss()\n",
    "learning_rate = 1e-3\n",
    "optimizer = torch.optim.Adam(model.parameters(), lr=learning_rate)\n",
    "\n",
    "# hyperparameters\n",
    "gamma = 0.9\n",
    "epsilon = 0.3\n",
    "\n",
    "# set of actions mapped to strings\n",
    "action_set = {\n",
    "                0: 'u',\n",
    "                1: 'd',\n",
    "                2: 'l',\n",
    "                3: 'r',\n",
    "            }\n",
    "\n",
    "# similar to experience replay\n",
    "epochs = 5000\n",
    "losses = []\n",
    "mem_size = 1000\n",
    "batch_size = 200\n",
    "replay = deque(maxlen=mem_size)\n",
    "max_moves = 50\n",
    "h = 0\n",
    "\n",
    "# sync frequency between Q network and target network\n",
    "sync_freq = 500\n",
    "j=0\n",
    "for i in tqdm.tqdm(range(epochs)):\n",
    "    game = Gridworld(size=4, mode='random')\n",
    "    # get initial state\n",
    "    state1_ = game.board.render_np()#.reshape(1,64) + np.random.rand(1,64)/100.0\n",
    "    state1 = torch.from_numpy(state1_).float().permute(2, 0, 1).unsqueeze(0)\n",
    "    status = 1\n",
    "    mov = 0\n",
    "    while(status == 1): \n",
    "        j+=1\n",
    "        mov += 1\n",
    "        # get Q values\n",
    "        qval = model(state1)\n",
    "        qval_ = qval.data.numpy()\n",
    "        # epsilon-greedy\n",
    "        if (random.random() < epsilon):\n",
    "            action_ = np.random.randint(0,4)\n",
    "        else:\n",
    "            action_ = np.argmax(qval_)\n",
    "        action = action_set[action_]\n",
    "        # make move\n",
    "        game.makeMove(action)\n",
    "        # get next state\n",
    "        state2_ = game.board.render_np()#.reshape(1,64) + np.random.rand(1,64)/100.0\n",
    "        state2 = torch.from_numpy(state2_).float().permute(2, 0, 1).unsqueeze(0)\n",
    "        # get reward from Q model\n",
    "        reward = game.reward()\n",
    "        done = True if reward > 0 else False\n",
    "        exp =  (state1, action_, reward, state2, done)\n",
    "        # append memory\n",
    "        replay.append(exp)\n",
    "        # update state\n",
    "        state1 = state2\n",
    "        \n",
    "        if len(replay) > batch_size:\n",
    "            # Experience replay part\n",
    "            minibatch = random.sample(replay, batch_size)\n",
    "            state1_batch = torch.cat([s1 for (s1,a,r,s2,d) in minibatch])\n",
    "            action_batch = torch.Tensor([a for (s1,a,r,s2,d) in minibatch])\n",
    "            reward_batch = torch.Tensor([r for (s1,a,r,s2,d) in minibatch])\n",
    "            state2_batch = torch.cat([s2 for (s1,a,r,s2,d) in minibatch])\n",
    "            done_batch = torch.Tensor([d for (s1,a,r,s2,d) in minibatch])\n",
    "            # get Q values using model from randomly sampled batch m\n",
    "            Q1 = model(state1_batch)\n",
    "            with torch.no_grad():\n",
    "                # get Q values from target network\n",
    "                Q2 = model2(state2_batch)\n",
    "            # compute target Q values using target model Q2\n",
    "            Y = reward_batch + gamma * ((1-done_batch) * torch.max(Q2,dim=1)[0])\n",
    "            # select Q-values of taken actions from Q1\n",
    "            X = Q1.gather(dim=1,index=action_batch.long().unsqueeze(dim=1)).squeeze()\n",
    "\n",
    "            # compute loss and backpropagate\n",
    "            loss = loss_fn(X, Y.detach())\n",
    "            optimizer.zero_grad()\n",
    "            loss.backward()\n",
    "            losses.append(loss.item())\n",
    "            optimizer.step()\n",
    "            \n",
    "            # update target network weights from Q1 every sync_freq\n",
    "            if j % sync_freq == 0: #C\n",
    "                model2.load_state_dict(model.state_dict())\n",
    "                \n",
    "        # check if game is to be stopped\n",
    "        if reward != -1 or mov > max_moves:\n",
    "            status = 0\n",
    "            mov = 0\n",
    "        \n",
    "losses = np.array(losses)"
   ]
  },
  {
   "cell_type": "code",
   "execution_count": 3,
   "id": "5353642e",
   "metadata": {},
   "outputs": [
    {
     "data": {
      "text/plain": [
       "Text(0, 0.5, 'Loss')"
      ]
     },
     "execution_count": 3,
     "metadata": {},
     "output_type": "execute_result"
    },
    {
     "data": {
      "image/png": "[encoded data removed]",
      "text/plain": [
       "<Figure size 1000x700 with 1 Axes>"
      ]
     },
     "metadata": {},
     "output_type": "display_data"
    }
   ],
   "source": [
    "import matplotlib.pyplot as plt\n",
    "plt.figure(figsize=(10,7))\n",
    "plt.plot(losses)\n",
    "plt.xlabel(\"Epochs\",fontsize=22)\n",
    "plt.ylabel(\"Loss\",fontsize=22)"
   ]
  },
  {
   "cell_type": "markdown",
   "id": "a0386d3f",
   "metadata": {},
   "source": [
    "Noise in this simple model using convolutional NN does not go down."
   ]
  },
  {
   "cell_type": "markdown",
   "id": "8ee66db6",
   "metadata": {},
   "source": [
    "## Learning to pick the best policy: Policy gradient methods\n",
    "\n",
    "- No strategy needed for selecting action like epsilon greedy.\n",
    "- No need for stability improvement methods like experience replay and target network\n",
    "\n",
    "### Stochastic policy gradient\n",
    "\n",
    "- With a stochastic policy gradient, the output of our neural network is an action vector that\n",
    "represents a probability distribution.\n",
    "- If the environment is stationary, which is when the distribution of states and\n",
    "rewards is constant, and we use a deterministic strategy, we’d expect the probability\n",
    "distribution to eventually converge to a **degenerate probability distribution** for a given state.\n",
    "-  But if there are two equally good actions, then we would expect the distribution to have **two modes**. A mode of a\n",
    "probability distribution is just another word for a **peak**.\n"
   ]
  },
  {
   "cell_type": "markdown",
   "id": "d4858479",
   "metadata": {},
   "source": [
    "### Gym package\n",
    "\n",
    "USer guide: [Gynamsium package](https://gymnasium.farama.org/introduction/basic_usage/)"
   ]
  },
  {
   "cell_type": "code",
   "execution_count": 2,
   "id": "9798a767",
   "metadata": {},
   "outputs": [],
   "source": [
    "import gym\n",
    "env = gym.make('CartPole-v1')"
   ]
  },
  {
   "cell_type": "code",
   "execution_count": 3,
   "id": "607ca937",
   "metadata": {},
   "outputs": [
    {
     "name": "stderr",
     "output_type": "stream",
     "text": [
      "/home/ankit/miniconda3/envs/ML/lib/python3.9/site-packages/gym/utils/passive_env_checker.py:233: DeprecationWarning: `np.bool8` is a deprecated alias for `np.bool_`.  (Deprecated NumPy 1.24)\n",
      "  if not isinstance(terminated, (bool, np.bool8)):\n"
     ]
    }
   ],
   "source": [
    "state1 = env.reset()\n",
    "action = env.action_space.sample()\n",
    "observation, reward, terminated, truncated, info = env.step(action)"
   ]
  },
  {
   "cell_type": "markdown",
   "id": "c044c70f",
   "metadata": {},
   "source": [
    " The first parameter, state, represents the next state\n",
    "after we take the action. The second parameter, reward, is the reward at that time\n",
    "step, which for our CartPole problem is 1 unless the pole has fallen down. The third\n",
    "parameter, done, is a Boolean that indicates whether or not a terminal state has\n",
    "been reached. For our CartPole problem, this would always return false until the\n",
    "pole has fallen or the cart has moved outside the window. The last parameter, info,\n",
    "is a dictionary with diagnostic information that may be useful for debugging"
   ]
  },
  {
   "cell_type": "code",
   "execution_count": null,
   "id": "75d008db",
   "metadata": {},
   "outputs": [],
   "source": [
    "import gymnasium as gym\n",
    "\n",
    "env = gym.make(\"LunarLander-v3\", render_mode=\"human\")\n",
    "observation, info = env.reset()\n",
    "\n",
    "episode_over = False\n",
    "while not episode_over:\n",
    "    action = env.action_space.sample()  # agent policy that uses the observation and info\n",
    "    observation, reward, terminated, truncated, info = env.step(action)\n",
    "\n",
    "    episode_over = terminated or truncated\n",
    "\n",
    "env.close()"
   ]
  },
  {
   "cell_type": "markdown",
   "id": "4d133c2d",
   "metadata": {},
   "source": [
    "## REINFORCE method for policy function\n",
    "\n",
    "It is a foundational policy gradient algorithm in reinforcement learning that directly optimizes a parameterized policy to maximize expected rewards. It works by sampling complete episodes using the current policy, then updating the policy parameters using the gradient of the log-probability of the taken actions, scaled by the total return (cumulative future rewards) from each time step. This means the policy is adjusted to make actions that led to higher rewards more likely in the future. While REINFORCE is conceptually simple and works with stochastic policies and continuous action spaces, it suffers from high variance in gradient estimates, often requiring techniques like baselines to improve stability and efficiency.\n"
   ]
  },
  {
   "cell_type": "code",
   "execution_count": 5,
   "id": "1a23ce3c",
   "metadata": {},
   "outputs": [
    {
     "data": {
      "text/plain": [
       "Discrete(4)"
      ]
     },
     "execution_count": 5,
     "metadata": {},
     "output_type": "execute_result"
    }
   ],
   "source": [
    "env.action_space"
   ]
  },
  {
   "cell_type": "code",
   "execution_count": 6,
   "id": "a3ec30d3",
   "metadata": {},
   "outputs": [],
   "source": [
    "import numpy as np\n",
    "import torch\n",
    "\n",
    "# input length\n",
    "l1 = 4\n",
    "# hidden layers\n",
    "l2 = 150\n",
    "# output layer for left or right\n",
    "l3 = 2 \n",
    "\n",
    "model = torch.nn.Sequential(\n",
    "    torch.nn.Linear(l1, l2),\n",
    "    torch.nn.LeakyReLU(),\n",
    "    torch.nn.Linear(l2, l3),\n",
    "    torch.nn.Softmax(dim=0) #C\n",
    ")\n",
    "\n",
    "learning_rate = 0.009\n",
    "optimizer = torch.optim.Adam(model.parameters(), lr=learning_rate)"
   ]
  },
  {
   "cell_type": "markdown",
   "id": "f4d43f60",
   "metadata": {},
   "source": []
  },
  {
   "cell_type": "code",
   "execution_count": null,
   "id": "a19ffc01",
   "metadata": {},
   "outputs": [],
   "source": [
    "# discounted rewards\n",
    "def discount_rewards(rewards, gamma=0.99):\n",
    "    lenr = len(rewards)\n",
    "    disc_return = torch.pow(gamma,torch.arange(lenr).float()) * rewards #A\n",
    "    disc_return /= disc_return.max() #B\n",
    "    return disc_return\n"
   ]
  }
 ],
 "metadata": {
  "kernelspec": {
   "display_name": "ML",
   "language": "python",
   "name": "python3"
  },
  "language_info": {
   "codemirror_mode": {
    "name": "ipython",
    "version": 3
   },
   "file_extension": ".py",
   "mimetype": "text/x-python",
   "name": "python",
   "nbconvert_exporter": "python",
   "pygments_lexer": "ipython3",
   "version": "3.9.18"
  }
 },
 "nbformat": 4,
 "nbformat_minor": 5
}
