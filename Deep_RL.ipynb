{
 "cells": [
  {
   "cell_type": "markdown",
   "id": "e081086a",
   "metadata": {},
   "source": [
    "## Solving the multi-arm bandit\n",
    "\n",
    "Let’s say you’re at a casino, and in front of you are 10 slot machines with a flashy\n",
    "sign that says “Play for free! Max payout is $10!” Wow, not bad! Intrigued, you ask one\n",
    "of the employees what’s going on, because it seems too good to be true, and she says,\n",
    "“It’s really true, play as much as you want, it’s free. Each slot machine is guaranteed to\n",
    "give you a reward between $0 and $10. Oh, by the way, keep this to yourself, but those\n",
    "10 slot machines each have a different average payout, so try to figure out which one\n",
    "gives the most rewards on average, and you’ll be making tons of cash!”"
   ]
  },
  {
   "cell_type": "markdown",
   "id": "8b19c510",
   "metadata": {},
   "source": [
    "### Greedy epsilon Strategy\n",
    "\n",
    "- We do a exploitation (choose best machine) and exploration (choose random machine) of slot machines\n",
    "- choose a parameter (epsilon) that can control between the two approaches.\n",
    "- Get average of each slot machine output. We take a fixed random number (probability) for each machine and add one dollar each time a random number comes greater than the probability. \n",
    "- For each arm (action): set up a for loop going to 10 (max reward), and at each step it will add 1 to the reward if a\n",
    "random float is less than the arm’s probability. RUnning this for many iterations will give the value (prob*max_reward)."
   ]
  },
  {
   "cell_type": "code",
   "execution_count": 3,
   "id": "90139d6e",
   "metadata": {},
   "outputs": [],
   "source": [
    "import numpy as np\n",
    "\n",
    "# Number of slot machines/arms\n",
    "N = 10\n",
    "\n",
    "# probability for each arm \n",
    "prob_a = np.random.rand(N)\n",
    "\n",
    "\n",
    "# get reward for an arm with given probability\n",
    "def get_reward(prob, max_reward=10):\n",
    "    reward = 0\n",
    "    for _ in range(max_reward):\n",
    "        if np.random.random() < prob:\n",
    "            reward += 1\n",
    "    return reward\n",
    "\n",
    "\n",
    "\n",
    "# function to update the reward for an action (a) of chosing an arm at each iteration\n",
    "def update_reward(record,a,reward):\n",
    "    \n",
    "    # update the mean and count of the arm a\n",
    "    new_mean = (record[a][1]*record[a][0]+reward)/(record[a][0]+1)\n",
    "    record[a][0] += 1\n",
    "    record[a][1] = new_mean\n",
    "    \n",
    "    return record\n",
    "\n",
    "\n",
    "# function to choose an arm to pull at each iteration\n",
    "def choose_arm(record,epsilon):\n",
    "    # choose a random number between 0 and 1\n",
    "    rand = np.random.rand()\n",
    "    \n",
    "    # if the random number is less than epsilon, choose a random arm\n",
    "    if rand < epsilon:\n",
    "        return np.random.randint(N)\n",
    "    \n",
    "    # else, choose the arm with the highest mean reward\n",
    "    else:\n",
    "        return np.argmax(record[:,1],axis=0)\n",
    "    "
   ]
  },
  {
   "cell_type": "code",
   "execution_count": 4,
   "id": "3bdfaf8e",
   "metadata": {},
   "outputs": [
    {
     "data": {
      "text/plain": [
       "(0.0, 10.0)"
      ]
     },
     "execution_count": 4,
     "metadata": {},
     "output_type": "execute_result"
    },
    {
     "data": {
      "image/png": "[encoded data removed]",
      "text/plain": [
       "<Figure size 640x480 with 1 Axes>"
      ]
     },
     "metadata": {},
     "output_type": "display_data"
    }
   ],
   "source": [
    "import matplotlib.pyplot as plt\n",
    "\n",
    "# number of iterations\n",
    "iterations = 500\n",
    "\n",
    "# epsilon for exploration\n",
    "epsilon = 0.2\n",
    "\n",
    "# record array with shape (N,2) \n",
    "# col1: the number of times each arm has been pulled \n",
    "# col2: the total reward for each arm\n",
    "record = np.zeros((N,2))\n",
    "\n",
    "\n",
    "fig,ax = plt.subplots(1,1)\n",
    "ax.set_xlabel(r'Trials')\n",
    "ax.set_ylabel(r'Rewards')\n",
    "\n",
    "rewards=[0]\n",
    "# loop over iterations\n",
    "for i in range(iterations):\n",
    "    # choose an arm to pull\n",
    "    a = choose_arm(record,epsilon)\n",
    "    # get the reward for the chosen arm\n",
    "    reward_i = get_reward(prob_a[a])\n",
    "    # update the reward for the chosen arm\n",
    "    record = update_reward(record,a,reward_i)\n",
    "    mean_reward = ((i+1) * rewards[-1] + reward_i)/(i+2)\n",
    "    rewards.append(mean_reward)\n",
    "\n",
    "ax.scatter(np.arange(len(rewards)),rewards)\n",
    "ax.set_ylim(0,10)"
   ]
  },
  {
   "cell_type": "markdown",
   "id": "360fa13c",
   "metadata": {},
   "source": [
    "### Softmax selection"
   ]
  },
  {
   "cell_type": "markdown",
   "id": "98d7273d",
   "metadata": {},
   "source": [
    "A newly minted doctor specializes in treating\n",
    "patients with heart attacks. She has 10 treatment options, of which she can choose\n",
    "only 1 to treat each patient she sees. For some reason, all she knows is that these 10\n",
    "treatments have different efficacies and risk profiles for treating heart attacks—she\n",
    "doesn’t know which one is the best yet. We could use the n-armed bandit algorithm\n",
    "from the previous solution, but we might want to reconsider our ε-greedy policy of\n",
    "randomly choosing a treatment once in a while. In this new problem, randomly choosing\n",
    "a treatment could result in patient death, not just losing some money. We really\n",
    "want to make sure we don’t choose the worst treatment, but we still want some ability\n",
    "to explore our options to find the best one."
   ]
  },
  {
   "cell_type": "code",
   "execution_count": 6,
   "id": "e090c3e2",
   "metadata": {},
   "outputs": [],
   "source": [
    "def softmax(av, tau=1.12):\n",
    "    \"\"\"\n",
    "    Function for softmax\n",
    "    Input:\n",
    "        av: action value vector\n",
    "        tau: temperature\n",
    "    Output:\n",
    "        softm: Probability vector for each action\n",
    "    \"\"\"\n",
    "    softm = np.exp(av / tau) / np.sum( np.exp(av / tau) )\n",
    "    return softm\n"
   ]
  },
  {
   "cell_type": "markdown",
   "id": "1ee3d4e8",
   "metadata": {},
   "source": [
    "The np.random.choice function in NumPy is used to generate a random sample from a given 1-D array. It allows you to randomly select elements, either with or without replacement, from the specified array or sequence"
   ]
  },
  {
   "cell_type": "code",
   "execution_count": 8,
   "id": "a25a1995",
   "metadata": {},
   "outputs": [
    {
     "data": {
      "text/plain": [
       "(0.0, 10.0)"
      ]
     },
     "execution_count": 8,
     "metadata": {},
     "output_type": "execute_result"
    },
    {
     "data": {
      "image/png": "[encoded data removed]",
      "text/plain": [
       "<Figure size 640x480 with 1 Axes>"
      ]
     },
     "metadata": {},
     "output_type": "display_data"
    }
   ],
   "source": [
    "import matplotlib.pyplot as plt\n",
    "import numpy as np\n",
    "\n",
    "# number of iterations\n",
    "iterations = 500\n",
    "\n",
    "# temperature for softmax\n",
    "tau = 0.2\n",
    "\n",
    "# record array with shape (N,2) \n",
    "# col1: the number of times each arm has been pulled \n",
    "# col2: the total reward for each arm\n",
    "record = np.random.rand(N,2)\n",
    "\n",
    "\n",
    "fig,ax = plt.subplots(1,1)\n",
    "ax.set_xlabel(r'Trials')\n",
    "ax.set_ylabel(r'Rewards')\n",
    "\n",
    "rewards=[0]\n",
    "# loop over iterations\n",
    "for i in range(iterations):\n",
    "    # choose an arm to pull\n",
    "    a = np.random.choice(np.arange(N),p=softmax(record[:,1],tau))\n",
    "    # get the reward for the chosen arm\n",
    "    reward_i = get_reward(prob_a[a])\n",
    "    # update the reward for the chosen arm\n",
    "    record = update_reward(record,a,reward_i)\n",
    "    mean_reward = ((i+1) * rewards[-1] + reward_i)/(i+2)\n",
    "    rewards.append(mean_reward)\n",
    "\n",
    "ax.scatter(np.arange(len(rewards)),rewards)\n",
    "ax.set_ylim(0,10)"
   ]
  },
  {
   "cell_type": "markdown",
   "id": "b110b968",
   "metadata": {},
   "source": [
    "for softmax the rewards converge faster"
   ]
  },
  {
   "cell_type": "markdown",
   "id": "48da7fc1",
   "metadata": {},
   "source": [
    "## Contextual bandit"
   ]
  },
  {
   "cell_type": "markdown",
   "id": "56cc521e",
   "metadata": {},
   "source": [
    "Let’s say we manage 10 e-commerce websites, each focusing on selling a different\n",
    "broad category of retail items such as computers, shoes, jewelry, etc. We want to\n",
    "increase sales by referring customers who shop on one of our sites to another site\n",
    "that they might be interested in. When a customer checks out on a particular site in\n",
    "our network, we will display an advertisement to one of our other sites in hopes\n",
    "they’ll go there and buy something else. Alternatively, we could place an ad for\n",
    "another product on the same site. Our problem is that we don’t know which sites we\n",
    "should refer users to. We could try placing random ads, but we suspect a more targeted\n",
    "approach is possible.\n",
    "\n",
    "\n",
    "At each play of the game\n",
    "(each time a customer checks out on a particular website) we have n = 10 possible\n",
    "actions we can take, corresponding to the 10 different types of advertisements we\n",
    "could place. The twist is that the best ad to place may depend on which site in the network\n",
    "the current customer is on. For example, a customer checking out on our jewelry\n",
    "site may be more in the mood to buy a new pair of shoes to go with their new\n",
    "diamond necklace than they would be to buy a new laptop. Thus our problem is to figure\n",
    "out how a particular site relates to a particular advertisement."
   ]
  },
  {
   "cell_type": "code",
   "execution_count": 7,
   "id": "86bed335",
   "metadata": {},
   "outputs": [],
   "source": [
    "class ContextBandit:\n",
    "    def __init__(self, arms=10):\n",
    "        self.arms = arms\n",
    "        self.init_distribution(arms)\n",
    "        self.update_state()\n",
    "    \n",
    "    # initial distribution of states space probabilities\n",
    "    def init_distribution(self, arms):\n",
    "        # assuming states are equal to arms so matrix is armsxarms\n",
    "        self.bandit_matrix = np.random.rand(arms, arms)\n",
    "\n",
    "    # setting rewards for a particlar state\n",
    "    def reward(self, prob):\n",
    "        reward = 0\n",
    "        for _ in range(self.arms):\n",
    "            if np.random.random() < prob:\n",
    "                reward += 1\n",
    "        return reward\n",
    "    \n",
    "    # getting the current state\n",
    "    def get_state(self):\n",
    "        return self.state\n",
    "    \n",
    "    # updating the state\n",
    "    def update_state(self):\n",
    "        self.state = np.random.randint(0,self.arms)\n",
    "    \n",
    "    # get reward for a particular arm\n",
    "    def get_reward(self,arm):\n",
    "        return self.reward(self.bandit_matrix[self.get_state()][arm])\n",
    "    \n",
    "    # choose an arm which means putting ads on site\n",
    "    def choose_arm(self, arm):\n",
    "        reward = self.get_reward(arm)\n",
    "        self.update_state()\n",
    "        return reward\n",
    "    "
   ]
  },
  {
   "cell_type": "code",
   "execution_count": 8,
   "id": "157750da",
   "metadata": {},
   "outputs": [],
   "source": [
    "import numpy as np\n",
    "import torch\n",
    "\n",
    "# number of arms\n",
    "arms = 10\n",
    "# batch size\n",
    "N= 1\n",
    "# input dimension\n",
    "D_in= arms\n",
    "# hidden dimension\n",
    "H= 200\n",
    "# output dimension\n",
    "D_out=arms\n",
    "\n",
    "# model with two layers\n",
    "model = torch.nn.Sequential(\n",
    "    torch.nn.Linear(D_in, H),\n",
    "    torch.nn.ReLU(),\n",
    "    torch.nn.Linear(H, D_out),\n",
    "    torch.nn.ReLU(),\n",
    ")\n",
    "\n",
    "# loss function\n",
    "loss_fn = torch.nn.MSELoss()\n",
    "\n",
    "# get environment instance\n",
    "env = ContextBandit(arms)\n",
    "\n",
    "# one hot encoding\n",
    "def one_hot(N, pos, val=1):\n",
    "    one_hot_vec = np.zeros(N)\n",
    "    one_hot_vec[pos] = val\n",
    "    return one_hot_vec\n"
   ]
  },
  {
   "cell_type": "code",
   "execution_count": null,
   "id": "7cbaca84",
   "metadata": {},
   "outputs": [],
   "source": [
    "# training function\n",
    "def train(env, epochs=5000, learning_rate=1e-2):\n",
    "    # initial state will be a random integer denoting a state but \n",
    "    cur_state = torch.Tensor(one_hot(arms,env.get_state()))\n",
    "\n",
    "    # optimizer function\n",
    "    optimizer = torch.optim.Adam(model.parameters(), lr=learning_rate)\n",
    "\n",
    "    # reward array\n",
    "    rewards = []\n",
    "\n",
    "\n",
    "    # main loop of training\n",
    "    for i in range(epochs):\n",
    "        # get prediction for current state\n",
    "        y_pred = model(cur_state)\n",
    "        # pass through softmax function to get probabilities\n",
    "        av_softmax = softmax(y_pred.data.numpy(), tau=2.0)\n",
    "        # normalize\n",
    "        av_softmax /= av_softmax.sum()\n",
    "        # choose an arm\n",
    "        choice = np.random.choice(arms, p=av_softmax)\n",
    "        # get reward for choosing an arm\n",
    "        cur_reward = env.choose_arm(choice)\n",
    "        # one hot encoding for reward for setting reward only for that arm\n",
    "        one_hot_reward = y_pred.data.numpy().copy()\n",
    "        one_hot_reward[choice] = cur_reward\n",
    "        reward = torch.Tensor(one_hot_reward)\n",
    "\n",
    "        # append reward\n",
    "        rewards.append(cur_reward)\n",
    "        # get loss\n",
    "        loss = loss_fn(y_pred, reward)\n",
    "        # update weights\n",
    "        optimizer.zero_grad()\n",
    "        loss.backward()\n",
    "        optimizer.step()\n",
    "        # set current state to new state\n",
    "        cur_state = torch.Tensor(one_hot(arms,env.get_state()))\n",
    "\n",
    "    # at the end return rewards    \n",
    "    return np.array(rewards)\n",
    "\n"
   ]
  },
  {
   "cell_type": "code",
   "execution_count": 10,
   "id": "e86c0bf4",
   "metadata": {},
   "outputs": [
    {
     "name": "stdout",
     "output_type": "stream",
     "text": [
      "(5000,)\n"
     ]
    },
    {
     "data": {
      "text/plain": [
       "[<matplotlib.lines.Line2D at 0x7f68100a33a0>]"
      ]
     },
     "execution_count": 10,
     "metadata": {},
     "output_type": "execute_result"
    },
    {
     "data": {
      "image/png": "[encoded data removed]",
      "text/plain": [
       "<Figure size 640x480 with 1 Axes>"
      ]
     },
     "metadata": {},
     "output_type": "display_data"
    }
   ],
   "source": [
    "import numpy as np\n",
    "import matplotlib.pyplot as plt\n",
    "\n",
    "def running_mean(x,N=50):\n",
    "    c = x.shape[0] - N\n",
    "    y = np.zeros(c)\n",
    "    conv = np.ones(N)\n",
    "    for i in range(c):\n",
    "        y[i] = (x[i:i+N] @ conv)/N\n",
    "    return y\n",
    "\n",
    "\n",
    "rewards2 = train(env)\n",
    "print(rewards2.shape)\n",
    "plt.plot(running_mean(rewards2,N=500))"
   ]
  },
  {
   "cell_type": "markdown",
   "id": "add1fc31",
   "metadata": {},
   "source": [
    "Even with this simple two layer agent, rewards increase consistently."
   ]
  },
  {
   "cell_type": "markdown",
   "id": "e4e8de70",
   "metadata": {},
   "source": [
    "## Q-Learning"
   ]
  },
  {
   "cell_type": "markdown",
   "id": "e8318ea2",
   "metadata": {},
   "source": [
    "Sure! Here's a concise explanation of **Q-Learning**:\n",
    "\n",
    "---\n",
    "\n",
    "### ✅ **Q-Learning in Short**\n",
    "\n",
    "**Q-Learning** is a **model-free reinforcement learning algorithm** that learns the **optimal action-value function** $Q(s, a)$, which tells an agent the expected future rewards for taking action $a$ in state $s$, and then following the best policy thereafter.\n",
    "\n",
    "---\n",
    "\n",
    "### 🔁 **Key Steps:**\n",
    "\n",
    "1. **Initialize** a Q-table (or a neural network in Deep Q-Learning) with arbitrary values. With \n",
    "\n",
    "$$\n",
    "Q(s, a) \\leftarrow Q(s, a) + \\alpha \\left[ r + \\gamma \\max_{a'} Q(s', a') - Q(s, a) \\right]\n",
    "$$\n",
    "\n",
    "\n",
    "2. **Observe** the current state $s$.\n",
    "\n",
    "3. **Choose an action** $a$ using a policy (e.g., ε-greedy: mostly choose the best action, sometimes explore).\n",
    "\n",
    "4. **Take the action**, receive **reward** $r$, and observe the **next state** $s'$.\n",
    "\n",
    "5. **Update the Q-value** using the **Bellman equation**:\n",
    "\n",
    "   $$\n",
    "   Q(s, a) \\leftarrow Q(s, a) + \\alpha \\left[ r + \\gamma \\max_{a'} Q(s', a') - Q(s, a) \\right]\n",
    "   $$\n",
    "\n",
    "   * $\\alpha$: learning rate\n",
    "   * $\\gamma$: discount factor (future reward importance)\n",
    "\n",
    "6. **Repeat** for many episodes.\n",
    "\n",
    "---\n",
    "\n",
    "### 🧠 Goal:\n",
    "\n",
    "Learn the **optimal policy**:\n",
    "\n",
    "$$\n",
    "\\pi^*(s) = \\arg\\max_a Q(s, a)\n",
    "$$\n",
    "\n",
    "---\n",
    "\n",
    "Let me know if you'd like a visual or simple Python code example!\n"
   ]
  },
  {
   "cell_type": "markdown",
   "id": "e7d55440",
   "metadata": {},
   "source": [
    "\n",
    "\n",
    "---\n",
    "\n",
    "### ❓ **How can a Q-network predict the future if it hasn't seen it yet?**\n",
    "\n",
    "It **doesn't literally know the future** — instead, it **learns an estimate** of the *expected cumulative future reward* **based on past experience**. Think of it like this:\n",
    "\n",
    "> 🧠 The Q-network is guessing (predicting) how good an action is, based on similar situations it has seen before during training.\n",
    "\n",
    "---\n",
    "\n",
    "### 🔁 The trick: Bootstrapping\n",
    "\n",
    "Q-learning uses a process called **bootstrapping**. Here's how it works:\n",
    "\n",
    "Let’s say the agent sees this experience:\n",
    "\n",
    "$$\n",
    "(S_t, A_t, R_{t+1}, S_{t+1})\n",
    "$$\n",
    "\n",
    "The Q-network makes a prediction:\n",
    "\n",
    "$$\n",
    "Q(S_t, A_t)\n",
    "$$\n",
    "\n",
    "It then computes the **target value** using:\n",
    "\n",
    "$$\n",
    "\\text{Target} = R_{t+1} + \\gamma \\cdot \\max_{a'} Q(S_{t+1}, a')\n",
    "$$\n",
    "\n",
    "That second term, $\\max_{a'} Q(S_{t+1}, a')$, is the Q-network’s own estimate of the best possible future reward from the new state $S_{t+1}$. So it's like the agent is **learning from its own predictions** of the future, updating and correcting itself over time.\n",
    "\n",
    "---\n",
    "\n",
    "### 🧪 Example\n",
    "\n",
    "Imagine you're in a gridworld at position A. Your Q-network says:\n",
    "\n",
    "* Go right: Q-value = 3.0\n",
    "* Go down: Q-value = 4.5\n",
    "\n",
    "You go **down**, get a reward of +1, and land in position B.\n",
    "\n",
    "The Q-network says:\n",
    "\n",
    "* From B, the best next Q-value is 6.0\n",
    "\n",
    "So you update your estimate:\n",
    "\n",
    "$$\n",
    "Q(\\text{A}, \\text{down}) \\leftarrow 1 + \\gamma \\cdot 6.0\n",
    "$$\n",
    "\n",
    "If $\\gamma = 0.9$, this becomes:\n",
    "\n",
    "$$\n",
    "Q(\\text{A}, \\text{down}) \\leftarrow 1 + 0.9 \\cdot 6 = 6.4\n",
    "$$\n",
    "\n",
    "So the agent updates its network to try to predict 6.4 next time it's in position A and thinking of going down.\n",
    "\n",
    "---\n",
    "\n",
    "### 🧠 TL;DR\n",
    "\n",
    "* The Q-network **doesn't know the future**.\n",
    "* It **predicts** the expected total reward *based on what it's learned from past experiences*.\n",
    "* It updates its guesses using the **reward it actually gets** and its **own predictions** for the next state (bootstrapping).\n",
    "* Over time, with enough experience, it gets better at estimating long-term outcomes.\n",
    "\n"
   ]
  },
  {
   "cell_type": "code",
   "execution_count": 3,
   "id": "4272194f",
   "metadata": {},
   "outputs": [],
   "source": [
    "from utils.Gridworld import Gridworld\n",
    "game = Gridworld(size=4, mode='static')"
   ]
  }
 ],
 "metadata": {
  "kernelspec": {
   "display_name": "ML",
   "language": "python",
   "name": "python3"
  },
  "language_info": {
   "codemirror_mode": {
    "name": "ipython",
    "version": 3
   },
   "file_extension": ".py",
   "mimetype": "text/x-python",
   "name": "python",
   "nbconvert_exporter": "python",
   "pygments_lexer": "ipython3",
   "version": "3.9.18"
  }
 },
 "nbformat": 4,
 "nbformat_minor": 5
}
