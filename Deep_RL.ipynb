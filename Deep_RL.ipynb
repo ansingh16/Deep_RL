{
 "cells": [
  {
   "cell_type": "markdown",
   "id": "e081086a",
   "metadata": {},
   "source": [
    "## Solving the multi-arm bandit\n",
    "\n",
    "Let’s say you’re at a casino, and in front of you are 10 slot machines with a flashy\n",
    "sign that says “Play for free! Max payout is $10!” Wow, not bad! Intrigued, you ask one\n",
    "of the employees what’s going on, because it seems too good to be true, and she says,\n",
    "“It’s really true, play as much as you want, it’s free. Each slot machine is guaranteed to\n",
    "give you a reward between $0 and $10. Oh, by the way, keep this to yourself, but those\n",
    "10 slot machines each have a different average payout, so try to figure out which one\n",
    "gives the most rewards on average, and you’ll be making tons of cash!”"
   ]
  },
  {
   "cell_type": "markdown",
   "id": "8b19c510",
   "metadata": {},
   "source": [
    "### Greedy epsilon Strategy\n",
    "\n",
    "- We do a exploitation (choose best machine) and exploration (choose random machine) of slot machines\n",
    "- choose a parameter (epsilon) that can control between the two approaches.\n",
    "- Get average of each slot machine output. We take a fixed random number (probability) for each machine and add one dollar each time a random number comes greater than the probability. \n",
    "- For each arm (action): set up a for loop going to 10 (max reward), and at each step it will add 1 to the reward if a\n",
    "random float is less than the arm’s probability. RUnning this for many iterations will give the value (prob*max_reward)."
   ]
  },
  {
   "cell_type": "code",
   "execution_count": null,
   "id": "90139d6e",
   "metadata": {},
   "outputs": [],
   "source": [
    "import numpy as np\n",
    "\n",
    "# Number of slot machines/arms\n",
    "N = 10\n",
    "\n",
    "# probability for each arm \n",
    "prob_a = np.random.rand(N)\n",
    "\n",
    "\n",
    "# get reward for an arm with given probability\n",
    "def get_reward(prob, max_reward=10):\n",
    "    reward = 0\n",
    "    for _ in range(max_reward):\n",
    "        if np.random.random() < prob:\n",
    "            reward += 1\n",
    "    return reward\n",
    "\n",
    "\n",
    "\n",
    "# function to update the reward for an action (a) of chosing an arm at each iteration\n",
    "def update_reward(record,a,reward):\n",
    "    \n",
    "    # update the mean and count of the arm a\n",
    "    new_mean = (record[a][1]*record[a][0]+reward)/(record[a][0]+1)\n",
    "    record[a][0] += 1\n",
    "    record[a][1] = new_mean\n",
    "    \n",
    "    return record\n",
    "\n",
    "\n",
    "# function to choose an arm to pull at each iteration\n",
    "def choose_arm(record,epsilon):\n",
    "    # choose a random number between 0 and 1\n",
    "    rand = np.random.rand()\n",
    "    \n",
    "    # if the random number is less than epsilon, choose a random arm\n",
    "    if rand < epsilon:\n",
    "        return np.random.randint(N)\n",
    "    \n",
    "    # else, choose the arm with the highest mean reward\n",
    "    else:\n",
    "        return np.argmax(record[:,1],axis=0)\n",
    "    "
   ]
  },
  {
   "cell_type": "code",
   "execution_count": 7,
   "id": "3bdfaf8e",
   "metadata": {},
   "outputs": [
    {
     "data": {
      "text/plain": [
       "(0.0, 10.0)"
      ]
     },
     "execution_count": 7,
     "metadata": {},
     "output_type": "execute_result"
    },
    {
     "data": {
      "image/png": "[encoded data removed]",
      "text/plain": [
       "<Figure size 640x480 with 1 Axes>"
      ]
     },
     "metadata": {},
     "output_type": "display_data"
    }
   ],
   "source": [
    "import matplotlib.pyplot as plt\n",
    "\n",
    "# number of iterations\n",
    "iterations = 500\n",
    "\n",
    "# epsilon for exploration\n",
    "epsilon = 0.2\n",
    "\n",
    "# record array with shape (N,2) \n",
    "# col1: the number of times each arm has been pulled \n",
    "# col2: the total reward for each arm\n",
    "record = np.zeros((N,2))\n",
    "\n",
    "\n",
    "fig,ax = plt.subplots(1,1)\n",
    "ax.set_xlabel(r'Trials')\n",
    "ax.set_ylabel(r'Rewards')\n",
    "\n",
    "rewards=[0]\n",
    "# loop over iterations\n",
    "for i in range(iterations):\n",
    "    # choose an arm to pull\n",
    "    a = choose_arm(record,epsilon)\n",
    "    # get the reward for the chosen arm\n",
    "    reward_i = get_reward(prob_a[a])\n",
    "    # update the reward for the chosen arm\n",
    "    record = update_reward(record,a,reward_i)\n",
    "    mean_reward = ((i+1) * rewards[-1] + reward_i)/(i+2)\n",
    "    rewards.append(mean_reward)\n",
    "\n",
    "ax.scatter(np.arange(len(rewards)),rewards)\n",
    "ax.set_ylim(0,10)"
   ]
  },
  {
   "cell_type": "markdown",
   "id": "360fa13c",
   "metadata": {},
   "source": [
    "### Softmax selection"
   ]
  },
  {
   "cell_type": "markdown",
   "id": "98d7273d",
   "metadata": {},
   "source": [
    "A newly minted doctor specializes in treating\n",
    "patients with heart attacks. She has 10 treatment options, of which she can choose\n",
    "only 1 to treat each patient she sees. For some reason, all she knows is that these 10\n",
    "treatments have different efficacies and risk profiles for treating heart attacks—she\n",
    "doesn’t know which one is the best yet. We could use the n-armed bandit algorithm\n",
    "from the previous solution, but we might want to reconsider our ε-greedy policy of\n",
    "randomly choosing a treatment once in a while. In this new problem, randomly choosing\n",
    "a treatment could result in patient death, not just losing some money. We really\n",
    "want to make sure we don’t choose the worst treatment, but we still want some ability\n",
    "to explore our options to find the best one."
   ]
  },
  {
   "cell_type": "code",
   "execution_count": null,
   "id": "e090c3e2",
   "metadata": {},
   "outputs": [],
   "source": [
    "def softmax(av, tau=1.12):\n",
    "    \"\"\"\n",
    "    Function for softmax\n",
    "    Input:\n",
    "        av: action value vector\n",
    "        tau: temperature\n",
    "    Output:\n",
    "        softm: Probability vector for each action\n",
    "    \"\"\"\n",
    "    softm = np.exp(av / tau) / np.sum( np.exp(av / tau) )\n",
    "    return softm\n"
   ]
  },
  {
   "cell_type": "markdown",
   "id": "1ee3d4e8",
   "metadata": {},
   "source": [
    "The np.random.choice function in NumPy is used to generate a random sample from a given 1-D array. It allows you to randomly select elements, either with or without replacement, from the specified array or sequence"
   ]
  },
  {
   "cell_type": "code",
   "execution_count": 14,
   "id": "a25a1995",
   "metadata": {},
   "outputs": [
    {
     "data": {
      "text/plain": [
       "(0.0, 10.0)"
      ]
     },
     "execution_count": 14,
     "metadata": {},
     "output_type": "execute_result"
    },
    {
     "data": {
      "image/png": "[encoded data removed]",
      "text/plain": [
       "<Figure size 640x480 with 1 Axes>"
      ]
     },
     "metadata": {},
     "output_type": "display_data"
    }
   ],
   "source": [
    "import matplotlib.pyplot as plt\n",
    "\n",
    "# number of iterations\n",
    "iterations = 500\n",
    "\n",
    "# temperature for softmax\n",
    "tau = 0.1\n",
    "\n",
    "# record array with shape (N,2) \n",
    "# col1: the number of times each arm has been pulled \n",
    "# col2: the total reward for each arm\n",
    "record = np.zeros((N,2))\n",
    "\n",
    "\n",
    "fig,ax = plt.subplots(1,1)\n",
    "ax.set_xlabel(r'Trials')\n",
    "ax.set_ylabel(r'Rewards')\n",
    "\n",
    "rewards=[0]\n",
    "# loop over iterations\n",
    "for i in range(iterations):\n",
    "    # choose an arm to pull\n",
    "    a = np.random.choice(np.arange(N),p=softmax(record[:,1],tau))\n",
    "    # get the reward for the chosen arm\n",
    "    reward_i = get_reward(prob_a[a])\n",
    "    # update the reward for the chosen arm\n",
    "    record = update_reward(record,a,reward_i)\n",
    "    mean_reward = ((i+1) * rewards[-1] + reward_i)/(i+2)\n",
    "    rewards.append(mean_reward)\n",
    "\n",
    "ax.scatter(np.arange(len(rewards)),rewards)\n",
    "ax.set_ylim(0,10)"
   ]
  },
  {
   "cell_type": "markdown",
   "id": "b110b968",
   "metadata": {},
   "source": [
    "for softmax the rewards converge faster"
   ]
  },
  {
   "cell_type": "markdown",
   "id": "48da7fc1",
   "metadata": {},
   "source": [
    "## Contextual bandit"
   ]
  },
  {
   "cell_type": "markdown",
   "id": "56cc521e",
   "metadata": {},
   "source": [
    "Let’s say we manage 10 e-commerce websites, each focusing on selling a different\n",
    "broad category of retail items such as computers, shoes, jewelry, etc. We want to\n",
    "increase sales by referring customers who shop on one of our sites to another site\n",
    "that they might be interested in. When a customer checks out on a particular site in\n",
    "our network, we will display an advertisement to one of our other sites in hopes\n",
    "they’ll go there and buy something else. Alternatively, we could place an ad for\n",
    "another product on the same site. Our problem is that we don’t know which sites we\n",
    "should refer users to. We could try placing random ads, but we suspect a more targeted\n",
    "approach is possible.\n",
    "\n",
    "\n",
    "At each play of the game\n",
    "(each time a customer checks out on a particular website) we have n = 10 possible\n",
    "actions we can take, corresponding to the 10 different types of advertisements we\n",
    "could place. The twist is that the best ad to place may depend on which site in the network\n",
    "the current customer is on. For example, a customer checking out on our jewelry\n",
    "site may be more in the mood to buy a new pair of shoes to go with their new\n",
    "diamond necklace than they would be to buy a new laptop. Thus our problem is to figure\n",
    "out how a particular site relates to a particular advertisement."
   ]
  },
  {
   "cell_type": "markdown",
   "id": "0203b704",
   "metadata": {},
   "source": []
  }
 ],
 "metadata": {
  "kernelspec": {
   "display_name": "ML",
   "language": "python",
   "name": "python3"
  },
  "language_info": {
   "codemirror_mode": {
    "name": "ipython",
    "version": 3
   },
   "file_extension": ".py",
   "mimetype": "text/x-python",
   "name": "python",
   "nbconvert_exporter": "python",
   "pygments_lexer": "ipython3",
   "version": "3.9.18"
  }
 },
 "nbformat": 4,
 "nbformat_minor": 5
}
